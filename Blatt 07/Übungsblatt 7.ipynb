{
 "cells": [
  {
   "cell_type": "markdown",
   "metadata": {
    "collapsed": true
   },
   "source": [
    "# Übungsblatt 7 #\n",
    "\n",
    "### Alice Ziegler, Daniel Schneider ###"
   ]
  },
  {
   "cell_type": "markdown",
   "metadata": {},
   "source": [
    "## Aufgabe 7.1: Lineare Diskriminanz: Gradient ##"
   ]
  },
  {
   "cell_type": "markdown",
   "metadata": {},
   "source": [
    " "
   ]
  },
  {
   "cell_type": "markdown",
   "metadata": {},
   "source": [
    "$$\n",
    "\\begin{align}\n",
    "E(w, w_0|X) &= - {\\sum_{1<= i <= N}(t_i\\ log\\ y_i + (1-t_i)log(1-y_i))} \\\\\n",
    "{\\frac{\\delta\\ E}{\\delta\\ w_j}} &=  - {\\sum_{1<= i <= N}(t_i \\frac{1}{y_i} \\frac{\\delta\\ y_i}{\\delta\\ w_j} + (1-t_i) \\frac{1}{1-y_i} (-\\frac{\\delta\\ y_i}{\\delta\\ w_j}))}\\\\\n",
    "{\\frac{\\delta\\ E}{\\delta\\ w_j}} &= - {\\sum_{1<= i <= N}(\\frac{t_i}{y_i}-\\frac{1-t_i}{1-y_i})}\\frac{\\delta\\ y_i}{\\delta\\ w_j} \\\\\n",
    "{\\frac{\\delta\\ E}{\\delta\\ w_j}} &= - {\\sum_{1<= i <= N}(\\frac{t_i - t_iy_i - y_i+t_iy_i}{y_i(1-y_i)})}\\frac{\\delta\\ y_i}{\\delta\\ w_j} \\\\\n",
    "{\\frac{\\delta\\ E}{\\delta\\ w_j}} &= - {\\sum_{1<= i <= N}(\\frac{t_i - y_i}{y_i(1-y_i)} \\frac{\\delta\\ y_i}{\\delta\\ w_j})}\\\\\n",
    "{\\frac{\\delta\\ E}{\\delta\\ w_j}} &= - {\\sum_{1<= i <= N}(\\frac{t_i - y_i}{y_i(1-y_i)} y_i(1-y_i)\\frac{\\delta (w^Tx_i+w_0)}{\\delta w_j})}\\ (siehe\\ Grundlagen)\\\\\n",
    "für\\ w_j: \\\\\n",
    "{\\frac{\\delta\\ E}{\\delta\\ w_j}} &= - {\\sum_{1<= i <= N}(t_i - y_i)x_{ij}}\\\\\n",
    "\\Delta w_j &= -\\eta{\\frac{\\delta\\ E}{\\delta\\ w_j}}\\ damit\\ gilt\\ für\\\\\n",
    "\\Delta w_j &= \\eta {\\sum_{1<= i <= N}(t_i - y_i)x_{ij}}\\\\\n",
    "für\\ w_0: \\\\\n",
    "{\\frac{\\delta\\ E}{\\delta\\ w_0}} &= - {\\sum_{1<= i <= N}(t_i - y_i)}\\\\\n",
    "\\Delta w_0 &= -\\eta{\\frac{\\delta\\ E}{\\delta\\ w_0}}\\ damit\\ gilt\\ für\\\\\n",
    "\\Delta w_0 &= \\eta{\\sum_{1<= i <= N}(t_i - y_i)}\\\\\n",
    "Grundlagen: \\\\\n",
    "y_i &= sigmoid(w^Tx_i+w_0)\\\\\n",
    "\\frac{\\delta\\ y_i}{\\delta\\ w_j} &= y_i(1-y_i)\\frac{\\delta (w^Tx_i+w_0)}{\\delta w_j}\n",
    "\\end{align}\n",
    "$$ "
   ]
  },
  {
   "cell_type": "markdown",
   "metadata": {},
   "source": [
    " "
   ]
  },
  {
   "cell_type": "markdown",
   "metadata": {},
   "source": [
    "## Aufgabe 7.2: Logistische Diskriminanz ##"
   ]
  },
  {
   "cell_type": "code",
   "execution_count": 1,
   "metadata": {
    "collapsed": true
   },
   "outputs": [],
   "source": [
    "import pandas as pd\n",
    "import random\n",
    "import math"
   ]
  },
  {
   "cell_type": "markdown",
   "metadata": {},
   "source": [
    "#### Laden des `Haberman`-Datensatzes ####"
   ]
  },
  {
   "cell_type": "code",
   "execution_count": 2,
   "metadata": {
    "collapsed": false
   },
   "outputs": [],
   "source": [
    "data = pd.read_csv(\n",
    "    \"https://archive.ics.uci.edu/ml/machine-learning-databases/haberman/haberman.data\",\n",
    "    header=None,\n",
    "    names = [\"age\", \"year\", \"axillary_nodes\", \"survival\"]\n",
    ")"
   ]
  },
  {
   "cell_type": "code",
   "execution_count": 3,
   "metadata": {
    "collapsed": false
   },
   "outputs": [],
   "source": [
    "data[\"survival\"] = data[\"survival\"].subtract(1)"
   ]
  },
  {
   "cell_type": "code",
   "execution_count": 4,
   "metadata": {
    "collapsed": false
   },
   "outputs": [
    {
     "name": "stdout",
     "output_type": "stream",
     "text": [
      "<class 'pandas.core.frame.DataFrame'>\n",
      "RangeIndex: 306 entries, 0 to 305\n",
      "Data columns (total 4 columns):\n",
      "age               306 non-null int64\n",
      "year              306 non-null int64\n",
      "axillary_nodes    306 non-null int64\n",
      "survival          306 non-null int64\n",
      "dtypes: int64(4)\n",
      "memory usage: 9.6 KB\n"
     ]
    }
   ],
   "source": [
    "data.info()"
   ]
  },
  {
   "cell_type": "markdown",
   "metadata": {},
   "source": [
    "#### Algorithmus für lineare Diskriminanz ####"
   ]
  },
  {
   "cell_type": "code",
   "execution_count": 5,
   "metadata": {
    "collapsed": true
   },
   "outputs": [],
   "source": [
    "def absListDist(list1, list2):\n",
    "    return [abs(i-j) for (i,j) in zip(list1, list2)]"
   ]
  },
  {
   "cell_type": "code",
   "execution_count": 6,
   "metadata": {
    "collapsed": false
   },
   "outputs": [],
   "source": [
    "def convergence(wNew, wOld):\n",
    "    if (type(wNew[0]) == type(wOld[0])):\n",
    "        return (max(absListDist(wNew, wOld)) < 1e-3)\n",
    "    else:\n",
    "        return False"
   ]
  },
  {
   "cell_type": "code",
   "execution_count": 7,
   "metadata": {
    "collapsed": false
   },
   "outputs": [],
   "source": [
    "def sigmoid(x):\n",
    "    return (1/(1+math.exp(-x)))"
   ]
  },
  {
   "cell_type": "code",
   "execution_count": 57,
   "metadata": {
    "collapsed": false
   },
   "outputs": [],
   "source": [
    "def logisticDiscrimination(data, classAttribute):\n",
    "    \n",
    "    data2 = data.copy()\n",
    "    \n",
    "    data2['ones'] = 1\n",
    "    \n",
    "    cols = list(data2.columns.values)\n",
    "    cols = [cols[len(cols)-1]] + cols[0:(len(cols)-1)]\n",
    "    \n",
    "    data2 = data2.reindex_axis(cols,axis=1)\n",
    "    \n",
    "    t = data2[classAttribute]\n",
    "    dataW = data2.drop(classAttribute, axis=1)\n",
    "    \n",
    "    N, d = dataW.shape\n",
    "    \n",
    "    wCurr = [None]*d\n",
    "    wPrev = [None]*d\n",
    "    deltaW = [None]*d\n",
    "    \n",
    "    nu = 1e-4\n",
    "    \n",
    "    for j in range(d):\n",
    "        wCurr[j] = random.uniform(-0.01,0.01)\n",
    "    \n",
    "    while not convergence(wCurr,wPrev):\n",
    "        \n",
    "        for j in range(d):\n",
    "            deltaW[j] = 0\n",
    "            wPrev[j] = wCurr[j]\n",
    "        \n",
    "        for i in range(N):\n",
    "            temp = 0\n",
    "            \n",
    "            for j in range(d):\n",
    "                temp += wCurr[j] * dataW[cols[j]][i]\n",
    "            \n",
    "            y = sigmoid(temp)\n",
    "            \n",
    "            for j in range(d):\n",
    "                deltaW[j] += (t[i] - y) * dataW[cols[j]][i]\n",
    "        \n",
    "        for j in range(d):\n",
    "            wCurr[j] += nu * deltaW[j]\n",
    "    \n",
    "        nu *= 0.9\n",
    "    return wCurr"
   ]
  },
  {
   "cell_type": "markdown",
   "metadata": {},
   "source": [
    "#### Durchführung der Klassifizierung und berechnung des Fehlers ####"
   ]
  },
  {
   "cell_type": "code",
   "execution_count": 50,
   "metadata": {
    "collapsed": false
   },
   "outputs": [],
   "source": [
    "def classify(data, ws):\n",
    "    data2 = data.copy()\n",
    "    \n",
    "    data2['ones'] = 1\n",
    "    \n",
    "    cols = list(data2.columns.values)\n",
    "    cols = [cols[len(cols)-1]] + cols[0:(len(cols)-1)]\n",
    "    \n",
    "    data2 = data2.reindex_axis(cols,axis=1)\n",
    "    \n",
    "    N, d = data2.shape\n",
    "    \n",
    "    c = [None]*N\n",
    "    \n",
    "    for i in range(N):\n",
    "        \n",
    "        c[i] = 0\n",
    "        for j in range(d):\n",
    "            c[i] = c[i] + ws[j] * data2[cols[j]][i]\n",
    "        \n",
    "        if(c[i] > 0):\n",
    "            c[i] = 1\n",
    "        else:\n",
    "            c[i] = 0\n",
    "    \n",
    "    return c"
   ]
  },
  {
   "cell_type": "code",
   "execution_count": 51,
   "metadata": {
    "collapsed": false,
    "scrolled": true
   },
   "outputs": [],
   "source": [
    "testing = data.sample(int(data.shape[0]/2),)\n",
    "training = data.drop(testing.index)\n",
    "\n",
    "testing.reset_index(drop=True,inplace=True)\n",
    "training.reset_index(drop=True,inplace=True)"
   ]
  },
  {
   "cell_type": "code",
   "execution_count": 52,
   "metadata": {
    "collapsed": true
   },
   "outputs": [],
   "source": [
    "testingNoClass = testing.drop('survival',axis=1)"
   ]
  },
  {
   "cell_type": "code",
   "execution_count": 58,
   "metadata": {
    "collapsed": false,
    "scrolled": true
   },
   "outputs": [],
   "source": [
    "ws = logisticDiscrimination(training, 'survival')"
   ]
  },
  {
   "cell_type": "code",
   "execution_count": 59,
   "metadata": {
    "collapsed": false
   },
   "outputs": [],
   "source": [
    "classes = classify(testingNoClass,ws)"
   ]
  },
  {
   "cell_type": "code",
   "execution_count": 55,
   "metadata": {
    "collapsed": true
   },
   "outputs": [],
   "source": [
    "def errorRate(orig, generated):\n",
    "    err = 0\n",
    "    for h in range(len(orig)):\n",
    "        if orig[h] != generated[h]:\n",
    "            err += 1\n",
    "            \n",
    "    return err/len(orig)"
   ]
  },
  {
   "cell_type": "code",
   "execution_count": 60,
   "metadata": {
    "collapsed": false
   },
   "outputs": [
    {
     "name": "stdout",
     "output_type": "stream",
     "text": [
      "In 75.16339869281046% der Fälle lag der Klassifizierer richtig\n"
     ]
    }
   ],
   "source": [
    "rightPercent = (1 - errorRate(testing['survival'],classes))*100\n",
    "print(\"In \"+str(rightPercent)+\"% der Fälle lag der Klassifizierer richtig\")"
   ]
  },
  {
   "cell_type": "markdown",
   "metadata": {},
   "source": [
    " "
   ]
  },
  {
   "cell_type": "markdown",
   "metadata": {
    "collapsed": true
   },
   "source": [
    "## Aufgabe 7.3: Support Vector Machine ##"
   ]
  },
  {
   "cell_type": "markdown",
   "metadata": {},
   "source": [
    "### a) Generieren der Datensätze ###"
   ]
  },
  {
   "cell_type": "code",
   "execution_count": 16,
   "metadata": {
    "collapsed": true
   },
   "outputs": [],
   "source": [
    "import numpy as np"
   ]
  },
  {
   "cell_type": "code",
   "execution_count": 17,
   "metadata": {
    "collapsed": false
   },
   "outputs": [],
   "source": [
    "def data_generator(intercept, slope, size):\n",
    "    def f(x): \n",
    "        return (slope*x + intercept)\n",
    "    \n",
    "    random.seed(1337)\n",
    "    data = []\n",
    "    \n",
    "    for _ in range (size):\n",
    "        while True:\n",
    "            x = random.random()\n",
    "            y = random.random()\n",
    "            label = 1 if f(x) > y else -1\n",
    "            \n",
    "            if abs(f(x) - y) > 0.1:\n",
    "                break ;\n",
    "        \n",
    "        data.append((x, y, label))\n",
    "    return data\n",
    "\n",
    "    "
   ]
  },
  {
   "cell_type": "code",
   "execution_count": 18,
   "metadata": {
    "collapsed": true
   },
   "outputs": [],
   "source": [
    "size = 100"
   ]
  },
  {
   "cell_type": "code",
   "execution_count": 19,
   "metadata": {
    "collapsed": false
   },
   "outputs": [],
   "source": [
    "gen1 = np.asarray(data_generator(-0.1,0.7,size))\n",
    "gen1NoClass = gen1[:,0:2]"
   ]
  },
  {
   "cell_type": "code",
   "execution_count": 20,
   "metadata": {
    "collapsed": false
   },
   "outputs": [],
   "source": [
    "gen2 = np.asarray(data_generator(0.1,2.0,size))\n",
    "gen2NoClass = gen2[:,0:2]"
   ]
  },
  {
   "cell_type": "code",
   "execution_count": 21,
   "metadata": {
    "collapsed": true
   },
   "outputs": [],
   "source": [
    "gen3 = np.asarray(data_generator(0.75,-0.2,size))\n",
    "gen3NoClass = gen3[:,0:2]"
   ]
  },
  {
   "cell_type": "code",
   "execution_count": 22,
   "metadata": {
    "collapsed": false
   },
   "outputs": [],
   "source": [
    "gen4 = np.asarray(data_generator(1.0,-1.0,size))\n",
    "gen4NoClass = gen4[:,0:2]"
   ]
  },
  {
   "cell_type": "markdown",
   "metadata": {
    "collapsed": true
   },
   "source": [
    "### b) Lernen der Trennebene ###"
   ]
  },
  {
   "cell_type": "code",
   "execution_count": 23,
   "metadata": {
    "collapsed": true
   },
   "outputs": [],
   "source": [
    "import scipy.optimize as sco"
   ]
  },
  {
   "cell_type": "code",
   "execution_count": 24,
   "metadata": {
    "collapsed": false
   },
   "outputs": [],
   "source": [
    "def minimize(data,classID):\n",
    "    N = data.shape[0]\n",
    "    \n",
    "    xs = np.c_[np.ones(N), data]\n",
    "    #print(xs)\n",
    "    \n",
    "    ts = xs[:,classID]\n",
    "    xs = np.delete(xs, [classID], axis=1)\n",
    "    \n",
    "    N,d = xs.shape\n",
    "    \n",
    "    wInit = np.empty([d,1])\n",
    "    for j in range(d):\n",
    "        wInit[j] = random.uniform(-0.01,0.01)\n",
    "    \n",
    "    #print(wInit)\n",
    "    #print(np.square(wInit))\n",
    "    #print(xs)\n",
    "    #print((np.dot(np.transpose(wInit), np.transpose(xs))))\n",
    "    #print(ts)\n",
    "    #print(ts * (np.dot(np.transpose(wInit), np.transpose(xs))))\n",
    "    \n",
    "    return sco.minimize(\n",
    "        fun = lambda ws: (1/2 * np.square(np.linalg.norm(ws))),\n",
    "        x0 = wInit,\n",
    "        constraints = {'type': 'ineq', 'fun': (lambda ws: (ts * (np.dot(np.transpose(ws), np.transpose(xs))).flatten() - 1))}\n",
    "    )"
   ]
  },
  {
   "cell_type": "code",
   "execution_count": 25,
   "metadata": {
    "collapsed": false,
    "scrolled": true
   },
   "outputs": [],
   "source": [
    "res1 = minimize(gen1,3)"
   ]
  },
  {
   "cell_type": "code",
   "execution_count": 26,
   "metadata": {
    "collapsed": true
   },
   "outputs": [],
   "source": [
    "res2 = minimize(gen2,3)"
   ]
  },
  {
   "cell_type": "code",
   "execution_count": 27,
   "metadata": {
    "collapsed": true
   },
   "outputs": [],
   "source": [
    "res3 = minimize(gen3,3)"
   ]
  },
  {
   "cell_type": "code",
   "execution_count": 28,
   "metadata": {
    "collapsed": true
   },
   "outputs": [],
   "source": [
    "res4 = minimize(gen4,3)"
   ]
  },
  {
   "cell_type": "markdown",
   "metadata": {},
   "source": [
    "### c) Plotten der Daten und Trennlinien ###"
   ]
  },
  {
   "cell_type": "code",
   "execution_count": 29,
   "metadata": {
    "collapsed": false
   },
   "outputs": [],
   "source": [
    "import matplotlib.pyplot as plt"
   ]
  },
  {
   "cell_type": "markdown",
   "metadata": {},
   "source": [
    "#### Berechnung der Trennlinie ####"
   ]
  },
  {
   "cell_type": "code",
   "execution_count": 30,
   "metadata": {
    "collapsed": true
   },
   "outputs": [],
   "source": [
    "def evaluateFunction(xs,ws):\n",
    "    ys = np.empty_like(xs)\n",
    "    \n",
    "    for i in range(xs.shape[0]):\n",
    "        ys[i] = - (ws[0] + ws[1]*xs[i])/ws[2]\n",
    "    \n",
    "    return ys"
   ]
  },
  {
   "cell_type": "markdown",
   "metadata": {},
   "source": [
    "#### Plotten der Punkte und Trennlinien ####"
   ]
  },
  {
   "cell_type": "code",
   "execution_count": 31,
   "metadata": {
    "collapsed": true
   },
   "outputs": [],
   "source": [
    "xVals = np.arange(0,1, 0.01)"
   ]
  },
  {
   "cell_type": "code",
   "execution_count": 32,
   "metadata": {
    "collapsed": false,
    "scrolled": true
   },
   "outputs": [
    {
     "data": {
      "image/png": "[encoded data removed]",
      "text/plain": [
       "<matplotlib.figure.Figure at 0x2c54890def0>"
      ]
     },
     "metadata": {},
     "output_type": "display_data"
    }
   ],
   "source": [
    "gen1ClassMinus = gen1[gen1[:,2] == -1]\n",
    "gen1ClassPlus = gen1[gen1[:,2] == 1]\n",
    "\n",
    "plt.scatter(gen1ClassMinus[:,0],gen1ClassMinus[:,1],marker=\"_\", c=\"red\")\n",
    "plt.scatter(gen1ClassPlus[:,0],gen1ClassPlus[:,1],marker=\"+\", c=\"green\")\n",
    "\n",
    "abline1 = evaluateFunction(xVals,res1.x)\n",
    "plt.plot(xVals,abline1,c=\"blue\")\n",
    "\n",
    "plt.show()"
   ]
  },
  {
   "cell_type": "code",
   "execution_count": 33,
   "metadata": {
    "collapsed": false,
    "scrolled": true
   },
   "outputs": [
    {
     "data": {
      "image/png": "[encoded data removed]",
      "text/plain": [
       "<matplotlib.figure.Figure at 0x2c54a70be48>"
      ]
     },
     "metadata": {},
     "output_type": "display_data"
    }
   ],
   "source": [
    "gen2ClassMinus = gen2[gen2[:,2] == -1]\n",
    "gen2ClassPlus = gen2[gen2[:,2] == 1]\n",
    "\n",
    "plt.scatter(gen2ClassMinus[:,0],gen2ClassMinus[:,1],marker=\"_\", c=\"red\")\n",
    "plt.scatter(gen2ClassPlus[:,0],gen2ClassPlus[:,1],marker=\"+\", c=\"green\")\n",
    "\n",
    "abline2 = evaluateFunction(xVals,res2.x)\n",
    "plt.plot(xVals,abline2,c=\"blue\")\n",
    "\n",
    "plt.show()"
   ]
  },
  {
   "cell_type": "code",
   "execution_count": 34,
   "metadata": {
    "collapsed": false
   },
   "outputs": [
    {
     "data": {
      "image/png": "[encoded data removed]",
      "text/plain": [
       "<matplotlib.figure.Figure at 0x2c54a74aeb8>"
      ]
     },
     "metadata": {},
     "output_type": "display_data"
    }
   ],
   "source": [
    "gen3ClassMinus = gen3[gen3[:,2] == -1]\n",
    "gen3ClassPlus = gen3[gen3[:,2] == 1]\n",
    "\n",
    "plt.scatter(gen3ClassMinus[:,0],gen3ClassMinus[:,1],marker=\"_\", c=\"red\")\n",
    "plt.scatter(gen3ClassPlus[:,0],gen3ClassPlus[:,1],marker=\"+\", c=\"green\")\n",
    "\n",
    "abline3 = evaluateFunction(xVals,res3.x)\n",
    "plt.plot(xVals,abline3,c=\"blue\")\n",
    "\n",
    "plt.show()"
   ]
  },
  {
   "cell_type": "code",
   "execution_count": 35,
   "metadata": {
    "collapsed": false
   },
   "outputs": [
    {
     "data": {
      "image/png": "[encoded data removed]",
      "text/plain": [
       "<matplotlib.figure.Figure at 0x2c54a815d30>"
      ]
     },
     "metadata": {},
     "output_type": "display_data"
    }
   ],
   "source": [
    "gen4ClassMinus = gen4[gen4[:,2] == -1]\n",
    "gen4ClassPlus = gen4[gen4[:,2] == 1]\n",
    "\n",
    "plt.scatter(gen4ClassMinus[:,0],gen4ClassMinus[:,1],marker=\"_\", c=\"red\")\n",
    "plt.scatter(gen4ClassPlus[:,0],gen4ClassPlus[:,1],marker=\"+\", c=\"green\")\n",
    "\n",
    "abline4 = evaluateFunction(xVals,res4.x)\n",
    "plt.plot(xVals,abline4,c=\"blue\")\n",
    "\n",
    "plt.show()"
   ]
  },
  {
   "cell_type": "markdown",
   "metadata": {},
   "source": [
    " "
   ]
  },
  {
   "cell_type": "markdown",
   "metadata": {},
   "source": [
    "#### Durchführung der Klassifizierung der Daten und berechnung des Fehlers ####"
   ]
  },
  {
   "cell_type": "code",
   "execution_count": 36,
   "metadata": {
    "collapsed": true
   },
   "outputs": [],
   "source": [
    "def compareClasses(classes1,classes2):\n",
    "    errors = 0\n",
    "    \n",
    "    for i in range(classes1.shape[0]):\n",
    "        if classes1[i] != classes2[i]:\n",
    "            errors += 1\n",
    "    \n",
    "    return errors"
   ]
  },
  {
   "cell_type": "code",
   "execution_count": 37,
   "metadata": {
    "collapsed": false
   },
   "outputs": [],
   "source": [
    "classify1 = np.dot(np.transpose(res1.x), np.transpose(np.c_[np.ones(gen1NoClass.shape[0]), gen1NoClass]))"
   ]
  },
  {
   "cell_type": "code",
   "execution_count": 38,
   "metadata": {
    "collapsed": true
   },
   "outputs": [],
   "source": [
    "classify2 = np.dot(np.transpose(res2.x), np.transpose(np.c_[np.ones(gen2NoClass.shape[0]), gen2NoClass]))"
   ]
  },
  {
   "cell_type": "code",
   "execution_count": 39,
   "metadata": {
    "collapsed": true
   },
   "outputs": [],
   "source": [
    "classify3 = np.dot(np.transpose(res3.x), np.transpose(np.c_[np.ones(gen3NoClass.shape[0]), gen3NoClass]))"
   ]
  },
  {
   "cell_type": "code",
   "execution_count": 40,
   "metadata": {
    "collapsed": true
   },
   "outputs": [],
   "source": [
    "classify4 = np.dot(np.transpose(res4.x), np.transpose(np.c_[np.ones(gen4NoClass.shape[0]), gen4NoClass]))"
   ]
  },
  {
   "cell_type": "code",
   "execution_count": 41,
   "metadata": {
    "collapsed": false
   },
   "outputs": [
    {
     "data": {
      "text/plain": [
       "0"
      ]
     },
     "execution_count": 41,
     "metadata": {},
     "output_type": "execute_result"
    }
   ],
   "source": [
    "compareClasses(gen1[:,2] > 0, classify1 > 0)"
   ]
  },
  {
   "cell_type": "code",
   "execution_count": 42,
   "metadata": {
    "collapsed": false
   },
   "outputs": [
    {
     "data": {
      "text/plain": [
       "0"
      ]
     },
     "execution_count": 42,
     "metadata": {},
     "output_type": "execute_result"
    }
   ],
   "source": [
    "compareClasses(gen2[:,2] > 0, classify2 > 0)"
   ]
  },
  {
   "cell_type": "code",
   "execution_count": 43,
   "metadata": {
    "collapsed": false
   },
   "outputs": [
    {
     "data": {
      "text/plain": [
       "0"
      ]
     },
     "execution_count": 43,
     "metadata": {},
     "output_type": "execute_result"
    }
   ],
   "source": [
    "compareClasses(gen3[:,2] > 0, classify3 > 0)"
   ]
  },
  {
   "cell_type": "code",
   "execution_count": 44,
   "metadata": {
    "collapsed": false
   },
   "outputs": [
    {
     "data": {
      "text/plain": [
       "0"
      ]
     },
     "execution_count": 44,
     "metadata": {},
     "output_type": "execute_result"
    }
   ],
   "source": [
    "compareClasses(gen4[:,2] > 0, classify4 > 0)"
   ]
  },
  {
   "cell_type": "markdown",
   "metadata": {},
   "source": [
    "Die Klassifizierung stimmt in allen Fällen mit den ursprünglichen Klassen überein, die Daten wurden also durch die Klassifizierung vollständig getrennt"
   ]
  },
  {
   "cell_type": "markdown",
   "metadata": {},
   "source": [
    " "
   ]
  }
 ],
 "metadata": {
  "anaconda-cloud": {},
  "kernelspec": {
   "display_name": "Python [default]",
   "language": "python",
   "name": "python3"
  },
  "language_info": {
   "codemirror_mode": {
    "name": "ipython",
    "version": 3
   },
   "file_extension": ".py",
   "mimetype": "text/x-python",
   "name": "python",
   "nbconvert_exporter": "python",
   "pygments_lexer": "ipython3",
   "version": "3.5.2"
  }
 },
 "nbformat": 4,
 "nbformat_minor": 1
}
