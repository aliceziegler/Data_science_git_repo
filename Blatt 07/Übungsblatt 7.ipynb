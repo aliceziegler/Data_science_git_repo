{
 "cells": [
  {
   "cell_type": "markdown",
   "metadata": {
    "collapsed": true
   },
   "source": [
    "# Übungsblatt 7 #\n",
    "\n",
    "### Alice Ziegler, Daniel Schneider ###"
   ]
  },
  {
   "cell_type": "markdown",
   "metadata": {},
   "source": [
    "## Aufgabe 7.1: Lineare Diskriminanz: Gradient ##"
   ]
  },
  {
   "cell_type": "markdown",
   "metadata": {},
   "source": [
    " "
   ]
  },
  {
   "cell_type": "markdown",
   "metadata": {},
   "source": [
    " "
   ]
  },
  {
   "cell_type": "markdown",
   "metadata": {},
   "source": [
    " "
   ]
  },
  {
   "cell_type": "markdown",
   "metadata": {},
   "source": [
    "## Aufgabe 7.2: Logistische Diskriminanz ##"
   ]
  },
  {
   "cell_type": "code",
   "execution_count": 1,
   "metadata": {
    "collapsed": true
   },
   "outputs": [],
   "source": [
    "import pandas as pd\n",
    "import random\n",
    "import math"
   ]
  },
  {
   "cell_type": "code",
   "execution_count": 2,
   "metadata": {
    "collapsed": false
   },
   "outputs": [],
   "source": [
    "data = pd.read_csv(\n",
    "    \"https://archive.ics.uci.edu/ml/machine-learning-databases/haberman/haberman.data\",\n",
    "    header=None,\n",
    "    names = [\"age\", \"year\", \"axillary_nodes\", \"survival\"]\n",
    ")"
   ]
  },
  {
   "cell_type": "code",
   "execution_count": 3,
   "metadata": {
    "collapsed": false
   },
   "outputs": [],
   "source": [
    "data[\"survival\"] = data[\"survival\"].subtract(1)"
   ]
  },
  {
   "cell_type": "code",
   "execution_count": 4,
   "metadata": {
    "collapsed": false
   },
   "outputs": [
    {
     "name": "stdout",
     "output_type": "stream",
     "text": [
      "<class 'pandas.core.frame.DataFrame'>\n",
      "RangeIndex: 306 entries, 0 to 305\n",
      "Data columns (total 4 columns):\n",
      "age               306 non-null int64\n",
      "year              306 non-null int64\n",
      "axillary_nodes    306 non-null int64\n",
      "survival          306 non-null int64\n",
      "dtypes: int64(4)\n",
      "memory usage: 9.6 KB\n"
     ]
    }
   ],
   "source": [
    "data.info()"
   ]
  },
  {
   "cell_type": "code",
   "execution_count": 5,
   "metadata": {
    "collapsed": true
   },
   "outputs": [],
   "source": [
    "def absListDist(list1, list2):\n",
    "    return [abs(i-j) for (i,j) in zip(list1, list2)]"
   ]
  },
  {
   "cell_type": "code",
   "execution_count": 6,
   "metadata": {
    "collapsed": false
   },
   "outputs": [],
   "source": [
    "def convergence(wNew, wOld):\n",
    "    if (type(wNew[0]) == type(wOld[0])):\n",
    "        return (max(absListDist(wNew, wOld)) < 1e-3)\n",
    "    else:\n",
    "        return False"
   ]
  },
  {
   "cell_type": "code",
   "execution_count": 7,
   "metadata": {
    "collapsed": false
   },
   "outputs": [],
   "source": [
    "def sigmoid(x):\n",
    "    return (1/(1+math.exp(-x)))"
   ]
  },
  {
   "cell_type": "code",
   "execution_count": 8,
   "metadata": {
    "collapsed": false
   },
   "outputs": [],
   "source": [
    "def logisticDiscrimination(data, classAttribute):\n",
    "    \n",
    "    data2 = data.copy()\n",
    "    \n",
    "    data2['ones'] = 1\n",
    "    \n",
    "    cols = list(data2.columns.values)\n",
    "    cols = [cols[len(cols)-1]] + cols[0:(len(cols)-1)]\n",
    "    \n",
    "    data2 = data2.reindex_axis(cols,axis=1)\n",
    "    \n",
    "    t = data2[classAttribute]\n",
    "    #print(t)\n",
    "    dataW = data2.drop(classAttribute, axis=1)\n",
    "    \n",
    "    N, d = dataW.shape\n",
    "    \n",
    "    wCurr = [None]*d\n",
    "    wPrev = [None]*d\n",
    "    deltaW = [None]*d\n",
    "    \n",
    "    nu = 1e-4\n",
    "    \n",
    "    for j in range(d):\n",
    "        wCurr[j] = random.uniform(-0.01,0.01)\n",
    "    \n",
    "    while not convergence(wCurr,wPrev):\n",
    "        \n",
    "        for j in range(d):\n",
    "            deltaW[j] = 0\n",
    "            wPrev[j] = wCurr[j]\n",
    "        \n",
    "        for i in range(N):\n",
    "            temp = 0\n",
    "            \n",
    "            for j in range(d):\n",
    "                temp += wCurr[j] * dataW[cols[j]][i]\n",
    "            \n",
    "            y = sigmoid(temp)\n",
    "            #print(y)\n",
    "            #print(t[i])\n",
    "            \n",
    "            for j in range(d):\n",
    "                deltaW[j] += (t[i] - y) * dataW[cols[j]][i]\n",
    "        \n",
    "        #print(deltaW)\n",
    "        \n",
    "        for j in range(d):\n",
    "            wCurr[j] += nu * deltaW[j]\n",
    "            \n",
    "            #print(wCurr[j])\n",
    "            #print(wPrev[j])\n",
    "    \n",
    "        #print(convergence(wCurr,wPrev))\n",
    "        nu *= 0.9\n",
    "    return wCurr"
   ]
  },
  {
   "cell_type": "code",
   "execution_count": 9,
   "metadata": {
    "collapsed": false
   },
   "outputs": [],
   "source": [
    "def classify(data, ws):\n",
    "    data2 = data.copy()\n",
    "    \n",
    "    data2['ones'] = 1\n",
    "    \n",
    "    cols = list(data2.columns.values)\n",
    "    cols = [cols[len(cols)-1]] + cols[0:(len(cols)-1)]\n",
    "    \n",
    "    data2 = data2.reindex_axis(cols,axis=1)\n",
    "    \n",
    "    #print(data2)\n",
    "    \n",
    "    N, d = data2.shape\n",
    "    \n",
    "    c = [None]*N\n",
    "    \n",
    "    for i in range(N):\n",
    "        \n",
    "        c[i] = 0\n",
    "        for j in range(d):\n",
    "            c[i] = c[i] + ws[j] * data2[cols[j]][i]\n",
    "        \n",
    "        if(c[i] > 0):\n",
    "            c[i] = 1\n",
    "        else:\n",
    "            c[i] = 0\n",
    "    \n",
    "    return c"
   ]
  },
  {
   "cell_type": "code",
   "execution_count": 10,
   "metadata": {
    "collapsed": false,
    "scrolled": true
   },
   "outputs": [],
   "source": [
    "testing = data.sample(int(data.shape[0]/2),)\n",
    "training = data.drop(testing.index)\n",
    "\n",
    "testing.reset_index(drop=True,inplace=True)\n",
    "training.reset_index(drop=True,inplace=True)"
   ]
  },
  {
   "cell_type": "code",
   "execution_count": 11,
   "metadata": {
    "collapsed": true
   },
   "outputs": [],
   "source": [
    "testingNoClass = testing.drop('survival',axis=1)"
   ]
  },
  {
   "cell_type": "code",
   "execution_count": 12,
   "metadata": {
    "collapsed": false,
    "scrolled": true
   },
   "outputs": [],
   "source": [
    "ws = logisticDiscrimination(training, 'survival')"
   ]
  },
  {
   "cell_type": "code",
   "execution_count": 13,
   "metadata": {
    "collapsed": false
   },
   "outputs": [],
   "source": [
    "classes = classify(testingNoClass,ws)"
   ]
  },
  {
   "cell_type": "code",
   "execution_count": 14,
   "metadata": {
    "collapsed": true
   },
   "outputs": [],
   "source": [
    "def errorRate(orig, generated):\n",
    "    err = 0\n",
    "    for h in range(len(orig)):\n",
    "        if orig[h] != generated[h]:\n",
    "            err += 1\n",
    "            \n",
    "    return err/len(orig)"
   ]
  },
  {
   "cell_type": "code",
   "execution_count": 15,
   "metadata": {
    "collapsed": false
   },
   "outputs": [
    {
     "data": {
      "text/plain": [
       "0.7516339869281046"
      ]
     },
     "execution_count": 15,
     "metadata": {},
     "output_type": "execute_result"
    }
   ],
   "source": [
    "1 - errorRate(testing['survival'],classes)"
   ]
  },
  {
   "cell_type": "markdown",
   "metadata": {},
   "source": [
    "In etwas mehr als $75\\%$ der Fälle lag der Klassifizierer richtig"
   ]
  },
  {
   "cell_type": "markdown",
   "metadata": {},
   "source": [
    " "
   ]
  },
  {
   "cell_type": "markdown",
   "metadata": {
    "collapsed": true
   },
   "source": [
    "## Aufgabe 7.3: Support Vector Machine ##"
   ]
  },
  {
   "cell_type": "markdown",
   "metadata": {},
   "source": [
    "### a) Generieren der Datensätze ###"
   ]
  },
  {
   "cell_type": "code",
   "execution_count": 19,
   "metadata": {
    "collapsed": false
   },
   "outputs": [],
   "source": [
    "def data_generator(intercept, slope, size):\n",
    "    def f(x): \n",
    "        return (slope*x + intercept)\n",
    "    \n",
    "    random.seed(1337)\n",
    "    data = []\n",
    "    \n",
    "    for _ in range (size):\n",
    "        while True:\n",
    "            x = random.random()\n",
    "            y = random.random()\n",
    "            label = 1 if f(x) > y else -1\n",
    "            \n",
    "            if abs(f(x) - y) > 0.1:\n",
    "                break ;\n",
    "        \n",
    "        data.append((x, y, label))\n",
    "    return data\n",
    "\n",
    "    "
   ]
  },
  {
   "cell_type": "code",
   "execution_count": 17,
   "metadata": {
    "collapsed": true
   },
   "outputs": [],
   "source": [
    "size = 100"
   ]
  },
  {
   "cell_type": "code",
   "execution_count": 355,
   "metadata": {
    "collapsed": false
   },
   "outputs": [],
   "source": [
    "gen1 = np.asarray(data_generator(-0.1,0.7,size))\n",
    "gen1NoClass = gen1[:,0:2]"
   ]
  },
  {
   "cell_type": "code",
   "execution_count": 352,
   "metadata": {
    "collapsed": false
   },
   "outputs": [],
   "source": [
    "gen2 = np.asarray(data_generator(0.1,2.0,size))\n",
    "gen2NoClass = gen2[:,0:2]"
   ]
  },
  {
   "cell_type": "code",
   "execution_count": 353,
   "metadata": {
    "collapsed": true
   },
   "outputs": [],
   "source": [
    "gen3 = np.asarray(data_generator(0.75,-0.2,size))\n",
    "gen3NoClass = gen3[:,0:2]"
   ]
  },
  {
   "cell_type": "code",
   "execution_count": 354,
   "metadata": {
    "collapsed": false
   },
   "outputs": [],
   "source": [
    "gen4 = np.asarray(data_generator(1.0,-1.0,size))\n",
    "gen4NoClass = gen4[:,0:2]"
   ]
  },
  {
   "cell_type": "code",
   "execution_count": 380,
   "metadata": {
    "collapsed": false,
    "scrolled": true
   },
   "outputs": [
    {
     "data": {
      "text/plain": [
       "array([[ 0.61775286,  0.53326557, -1.        ],\n",
       "       [ 0.36584836,  0.58578735, -1.        ],\n",
       "       [ 0.16568728,  0.82437375, -1.        ],\n",
       "       [ 0.38370481,  0.78961282, -1.        ],\n",
       "       [ 0.92172651,  0.30763339,  1.        ],\n",
       "       [ 0.99224707,  0.204946  ,  1.        ],\n",
       "       [ 0.65627763,  0.91230534, -1.        ],\n",
       "       [ 0.1092884 ,  0.82043763, -1.        ],\n",
       "       [ 0.39873905,  0.06534313,  1.        ],\n",
       "       [ 0.40358753,  0.80161255, -1.        ],\n",
       "       [ 0.80006513,  0.66374888, -1.        ],\n",
       "       [ 0.83250653,  0.59445681, -1.        ],\n",
       "       [ 0.46093368,  0.95756339, -1.        ],\n",
       "       [ 0.79572026,  0.3137279 ,  1.        ],\n",
       "       [ 0.69054137,  0.9151    , -1.        ],\n",
       "       [ 0.52544343,  0.61867322, -1.        ],\n",
       "       [ 0.57729775,  0.0438804 ,  1.        ],\n",
       "       [ 0.40747   ,  0.65292276, -1.        ],\n",
       "       [ 0.61974555,  0.67559887, -1.        ],\n",
       "       [ 0.63499788,  0.19702205,  1.        ],\n",
       "       [ 0.28492583,  0.4523282 , -1.        ],\n",
       "       [ 0.91653082,  0.79823883, -1.        ],\n",
       "       [ 0.31428291,  0.79540743, -1.        ],\n",
       "       [ 0.61079324,  0.43216871, -1.        ],\n",
       "       [ 0.77599683,  0.55541019, -1.        ],\n",
       "       [ 0.64575669,  0.84842981, -1.        ],\n",
       "       [ 0.2136505 ,  0.97446101, -1.        ],\n",
       "       [ 0.52907581,  0.5284481 , -1.        ],\n",
       "       [ 0.7753213 ,  0.05043422,  1.        ],\n",
       "       [ 0.49465956,  0.73649886, -1.        ],\n",
       "       [ 0.4551855 ,  0.89878943, -1.        ],\n",
       "       [ 0.75218099,  0.72887079, -1.        ],\n",
       "       [ 0.35260894,  0.55837984, -1.        ],\n",
       "       [ 0.06678821,  0.1304905 , -1.        ],\n",
       "       [ 0.05889977,  0.17011526, -1.        ],\n",
       "       [ 0.81998014,  0.19186549,  1.        ],\n",
       "       [ 0.95266658,  0.83352599, -1.        ],\n",
       "       [ 0.42705567,  0.60639281, -1.        ],\n",
       "       [ 0.88113567,  0.93101912, -1.        ],\n",
       "       [ 0.42994455,  0.74108197, -1.        ],\n",
       "       [ 0.15556442,  0.63392025, -1.        ],\n",
       "       [ 0.35242156,  0.67686317, -1.        ],\n",
       "       [ 0.60096051,  0.71737759, -1.        ],\n",
       "       [ 0.19152174,  0.48406645, -1.        ],\n",
       "       [ 0.61317214,  0.55282134, -1.        ],\n",
       "       [ 0.15972633,  0.71139723, -1.        ],\n",
       "       [ 0.1945322 ,  0.76272977, -1.        ],\n",
       "       [ 0.15909277,  0.46921009, -1.        ],\n",
       "       [ 0.03023652,  0.59994623, -1.        ],\n",
       "       [ 0.78080142,  0.87399646, -1.        ],\n",
       "       [ 0.22509479,  0.30527787, -1.        ],\n",
       "       [ 0.44006545,  0.37905692, -1.        ],\n",
       "       [ 0.63654951,  0.14406933,  1.        ],\n",
       "       [ 0.82034999,  0.76259437, -1.        ],\n",
       "       [ 0.23671162,  0.81311189, -1.        ],\n",
       "       [ 0.08583127,  0.69403592, -1.        ],\n",
       "       [ 0.34249829,  0.84126109, -1.        ],\n",
       "       [ 0.27520974,  0.52716078, -1.        ],\n",
       "       [ 0.13954061,  0.85883954, -1.        ],\n",
       "       [ 0.50427759,  0.3787849 , -1.        ],\n",
       "       [ 0.63949244,  0.11368392,  1.        ],\n",
       "       [ 0.79080787,  0.2124693 ,  1.        ],\n",
       "       [ 0.53496829,  0.92893128, -1.        ],\n",
       "       [ 0.57996953,  0.10296371,  1.        ],\n",
       "       [ 0.85643086,  0.95025682, -1.        ],\n",
       "       [ 0.50582185,  0.59095797, -1.        ],\n",
       "       [ 0.64423323,  0.64110452, -1.        ],\n",
       "       [ 0.49626614,  0.01584388,  1.        ],\n",
       "       [ 0.14813307,  0.97778636, -1.        ],\n",
       "       [ 0.91520499,  0.64930363, -1.        ],\n",
       "       [ 0.61526842,  0.93048582, -1.        ],\n",
       "       [ 0.73518988,  0.02085601,  1.        ],\n",
       "       [ 0.79072565,  0.16232488,  1.        ],\n",
       "       [ 0.75182218,  0.64778493, -1.        ],\n",
       "       [ 0.71086146,  0.79922361, -1.        ],\n",
       "       [ 0.46095875,  0.80518585, -1.        ],\n",
       "       [ 0.673229  ,  0.75234183, -1.        ],\n",
       "       [ 0.02505763,  0.42628081, -1.        ],\n",
       "       [ 0.79221653,  0.10245712,  1.        ],\n",
       "       [ 0.1699003 ,  0.71775217, -1.        ],\n",
       "       [ 0.85888452,  0.15692299,  1.        ],\n",
       "       [ 0.55004281,  0.91203028, -1.        ],\n",
       "       [ 0.91433825,  0.05886948,  1.        ],\n",
       "       [ 0.22742452,  0.78809765, -1.        ],\n",
       "       [ 0.32829879,  0.55159891, -1.        ],\n",
       "       [ 0.07377319,  0.84824327, -1.        ],\n",
       "       [ 0.58029819,  0.02769223,  1.        ],\n",
       "       [ 0.93711186,  0.67910011, -1.        ],\n",
       "       [ 0.95214033,  0.05919686,  1.        ],\n",
       "       [ 0.55020992,  0.11506583,  1.        ],\n",
       "       [ 0.27834276,  0.56216559, -1.        ],\n",
       "       [ 0.28706354,  0.68951804, -1.        ],\n",
       "       [ 0.00702724,  0.85142116, -1.        ],\n",
       "       [ 0.29938966,  0.3715802 , -1.        ],\n",
       "       [ 0.76734768,  0.32241315,  1.        ],\n",
       "       [ 0.75608638,  0.05657272,  1.        ],\n",
       "       [ 0.7594675 ,  0.05359872,  1.        ],\n",
       "       [ 0.76183568,  0.8009028 , -1.        ],\n",
       "       [ 0.1737286 ,  0.49673692, -1.        ],\n",
       "       [ 0.67467119,  0.18375697,  1.        ]])"
      ]
     },
     "execution_count": 380,
     "metadata": {},
     "output_type": "execute_result"
    }
   ],
   "source": [
    "gen1"
   ]
  },
  {
   "cell_type": "markdown",
   "metadata": {
    "collapsed": true
   },
   "source": [
    "### b) Lernen der Trennebene ###"
   ]
  },
  {
   "cell_type": "code",
   "execution_count": 39,
   "metadata": {
    "collapsed": true
   },
   "outputs": [],
   "source": [
    "import scipy.optimize as sco\n",
    "import numpy as np"
   ]
  },
  {
   "cell_type": "code",
   "execution_count": 331,
   "metadata": {
    "collapsed": false
   },
   "outputs": [],
   "source": [
    "def minimize(data,classID):\n",
    "    N = data.shape[0]\n",
    "    \n",
    "    xs = np.c_[np.ones(N), data]\n",
    "    #print(xs)\n",
    "    \n",
    "    ts = xs[:,classID]\n",
    "    xs = np.delete(xs, [classID], axis=1)\n",
    "    \n",
    "    N,d = xs.shape\n",
    "    \n",
    "    wInit = np.empty([d,1])\n",
    "    for j in range(d):\n",
    "        wInit[j] = random.uniform(-0.01,0.01)\n",
    "    \n",
    "    #print(wInit)\n",
    "    #print(np.square(wInit))\n",
    "    #print(xs)\n",
    "    #print((np.dot(np.transpose(wInit), np.transpose(xs))))\n",
    "    #print(ts)\n",
    "    #print(ts * (np.dot(np.transpose(wInit), np.transpose(xs))))\n",
    "    \n",
    "    return sco.minimize(\n",
    "        fun = lambda ws: (1/2 * np.square(np.linalg.norm(ws))),\n",
    "        x0 = wInit,\n",
    "        constraints = {'type': 'ineq', 'fun': (lambda ws: (ts * (np.dot(np.transpose(ws), np.transpose(xs))).flatten() - 1))}\n",
    "    )"
   ]
  },
  {
   "cell_type": "code",
   "execution_count": 332,
   "metadata": {
    "collapsed": false,
    "scrolled": true
   },
   "outputs": [],
   "source": [
    "res1 = minimize(gen1,3)"
   ]
  },
  {
   "cell_type": "code",
   "execution_count": 322,
   "metadata": {
    "collapsed": true
   },
   "outputs": [],
   "source": [
    "res2 = minimize(gen2,3)"
   ]
  },
  {
   "cell_type": "code",
   "execution_count": 323,
   "metadata": {
    "collapsed": true
   },
   "outputs": [],
   "source": [
    "res3 = minimize(gen3,3)"
   ]
  },
  {
   "cell_type": "code",
   "execution_count": 324,
   "metadata": {
    "collapsed": true
   },
   "outputs": [],
   "source": [
    "res4 = minimize(gen4,3)"
   ]
  },
  {
   "cell_type": "code",
   "execution_count": 381,
   "metadata": {
    "collapsed": false
   },
   "outputs": [
    {
     "data": {
      "text/plain": [
       "     fun: 62.462987328671204\n",
       "     jac: array([-0.94338465,  6.37082291, -9.13502121,  0.        ])\n",
       " message: 'Optimization terminated successfully.'\n",
       "    nfev: 21\n",
       "     nit: 2\n",
       "    njev: 2\n",
       "  status: 0\n",
       " success: True\n",
       "       x: array([-0.94338498,  6.37082276, -9.13502144])"
      ]
     },
     "execution_count": 381,
     "metadata": {},
     "output_type": "execute_result"
    }
   ],
   "source": [
    "res1"
   ]
  },
  {
   "cell_type": "markdown",
   "metadata": {},
   "source": [
    "### c) Plotten der Daten und Trennlinien ###"
   ]
  },
  {
   "cell_type": "code",
   "execution_count": 115,
   "metadata": {
    "collapsed": false
   },
   "outputs": [],
   "source": [
    "import matplotlib.pyplot as plt"
   ]
  },
  {
   "cell_type": "code",
   "execution_count": 387,
   "metadata": {
    "collapsed": false
   },
   "outputs": [
    {
     "data": {
      "image/png": "[encoded data removed]",
      "text/plain": [
       "<matplotlib.figure.Figure at 0x21b684cca90>"
      ]
     },
     "metadata": {},
     "output_type": "display_data"
    }
   ],
   "source": [
    "plt.scatter(gen1[:,0],gen1[:,1],c=gen1[:,2])\n",
    "\n",
    "#xVals = np.arange(0,1, 0.01)\n",
    "#abline = evaluateFunction(res1.x,xVals)\n",
    "#plt.plot(xVals,abline)\n",
    "plt.show()"
   ]
  },
  {
   "cell_type": "code",
   "execution_count": 388,
   "metadata": {
    "collapsed": false,
    "scrolled": true
   },
   "outputs": [
    {
     "data": {
      "image/png": "[encoded data removed]",
      "text/plain": [
       "<matplotlib.figure.Figure at 0x21b67082da0>"
      ]
     },
     "metadata": {},
     "output_type": "display_data"
    }
   ],
   "source": [
    "plt.scatter(gen2[:,0],gen2[:,1],c=gen2[:,2])\n",
    "\n",
    "#xVals = np.arange(0,1, 0.01)\n",
    "#abline = evaluateFunction(res2.x,xVals)\n",
    "#plt.plot(xVals,abline)\n",
    "plt.show()"
   ]
  },
  {
   "cell_type": "code",
   "execution_count": 394,
   "metadata": {
    "collapsed": false
   },
   "outputs": [
    {
     "data": {
      "image/png": "[encoded data removed]",
      "text/plain": [
       "<matplotlib.figure.Figure at 0x21b67126a90>"
      ]
     },
     "metadata": {},
     "output_type": "display_data"
    }
   ],
   "source": [
    "plt.scatter(gen3[:,0],gen3[:,1],c=gen3[:,2])\n",
    "\n",
    "#xVals = np.arange(0,1, 0.01)\n",
    "#abline = evaluateFunction(res3.x,xVals)\n",
    "#plt.plot(xVals,abline)\n",
    "plt.show()"
   ]
  },
  {
   "cell_type": "code",
   "execution_count": 391,
   "metadata": {
    "collapsed": false
   },
   "outputs": [
    {
     "data": {
      "image/png": "[encoded data removed]",
      "text/plain": [
       "<matplotlib.figure.Figure at 0x21b684d5358>"
      ]
     },
     "metadata": {},
     "output_type": "display_data"
    }
   ],
   "source": [
    "plt.scatter(gen4[:,0],gen4[:,1],c=gen4[:,2])\n",
    "\n",
    "#xVals = np.arange(0,1, 0.01)\n",
    "#abline = evaluateFunction(res4.x,xVals)\n",
    "#plt.plot(xVals,abline)\n",
    "plt.show()"
   ]
  },
  {
   "cell_type": "markdown",
   "metadata": {},
   "source": [
    " "
   ]
  },
  {
   "cell_type": "code",
   "execution_count": 369,
   "metadata": {
    "collapsed": true
   },
   "outputs": [],
   "source": [
    "def compareClasses(classes1,classes2):\n",
    "    errors = 0\n",
    "    \n",
    "    for i in range(classes1.shape[0]):\n",
    "        if classes1[i] != classes2[i]:\n",
    "            errors += 1\n",
    "    \n",
    "    return errors"
   ]
  },
  {
   "cell_type": "code",
   "execution_count": 370,
   "metadata": {
    "collapsed": false
   },
   "outputs": [],
   "source": [
    "classify1 = np.dot(np.transpose(res1.x), np.transpose(np.c_[np.ones(gen1NoClass.shape[0]), gen1NoClass]))"
   ]
  },
  {
   "cell_type": "code",
   "execution_count": 372,
   "metadata": {
    "collapsed": true
   },
   "outputs": [],
   "source": [
    "classify2 = np.dot(np.transpose(res2.x), np.transpose(np.c_[np.ones(gen2NoClass.shape[0]), gen2NoClass]))"
   ]
  },
  {
   "cell_type": "code",
   "execution_count": 373,
   "metadata": {
    "collapsed": true
   },
   "outputs": [],
   "source": [
    "classify3 = np.dot(np.transpose(res3.x), np.transpose(np.c_[np.ones(gen3NoClass.shape[0]), gen3NoClass]))"
   ]
  },
  {
   "cell_type": "code",
   "execution_count": 374,
   "metadata": {
    "collapsed": true
   },
   "outputs": [],
   "source": [
    "classify4 = np.dot(np.transpose(res4.x), np.transpose(np.c_[np.ones(gen4NoClass.shape[0]), gen4NoClass]))"
   ]
  },
  {
   "cell_type": "code",
   "execution_count": 371,
   "metadata": {
    "collapsed": false
   },
   "outputs": [
    {
     "data": {
      "text/plain": [
       "0"
      ]
     },
     "execution_count": 371,
     "metadata": {},
     "output_type": "execute_result"
    }
   ],
   "source": [
    "compareClasses(gen1[:,2] > 0, classify1 > 0)"
   ]
  },
  {
   "cell_type": "code",
   "execution_count": 375,
   "metadata": {
    "collapsed": false
   },
   "outputs": [
    {
     "data": {
      "text/plain": [
       "0"
      ]
     },
     "execution_count": 375,
     "metadata": {},
     "output_type": "execute_result"
    }
   ],
   "source": [
    "compareClasses(gen2[:,2] > 0, classify2 > 0)"
   ]
  },
  {
   "cell_type": "code",
   "execution_count": 376,
   "metadata": {
    "collapsed": false
   },
   "outputs": [
    {
     "data": {
      "text/plain": [
       "0"
      ]
     },
     "execution_count": 376,
     "metadata": {},
     "output_type": "execute_result"
    }
   ],
   "source": [
    "compareClasses(gen3[:,2] > 0, classify3 > 0)"
   ]
  },
  {
   "cell_type": "code",
   "execution_count": 377,
   "metadata": {
    "collapsed": false
   },
   "outputs": [
    {
     "data": {
      "text/plain": [
       "0"
      ]
     },
     "execution_count": 377,
     "metadata": {},
     "output_type": "execute_result"
    }
   ],
   "source": [
    "compareClasses(gen4[:,2] > 0, classify4 > 0)"
   ]
  },
  {
   "cell_type": "markdown",
   "metadata": {},
   "source": [
    "Die Klassifizierung stimmt in allen Fällen mit den ursprünglichen Klassen überein, die Daten wurden also durch die Klassifizierung vollständig getrennt"
   ]
  },
  {
   "cell_type": "markdown",
   "metadata": {},
   "source": [
    " "
   ]
  }
 ],
 "metadata": {
  "anaconda-cloud": {},
  "kernelspec": {
   "display_name": "Python [default]",
   "language": "python",
   "name": "python3"
  },
  "language_info": {
   "codemirror_mode": {
    "name": "ipython",
    "version": 3
   },
   "file_extension": ".py",
   "mimetype": "text/x-python",
   "name": "python",
   "nbconvert_exporter": "python",
   "pygments_lexer": "ipython3",
   "version": "3.5.2"
  }
 },
 "nbformat": 4,
 "nbformat_minor": 1
}
