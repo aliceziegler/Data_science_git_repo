{
 "cells": [
  {
   "cell_type": "markdown",
   "metadata": {},
   "source": [
    "# Übungsblatt 4 #\n",
    "\n",
    "### Alice Ziegler, Daniel Schneider ###"
   ]
  },
  {
   "cell_type": "markdown",
   "metadata": {},
   "source": [
    "## Aufgabe 4.1: Dimensionsreduktion ##"
   ]
  },
  {
   "cell_type": "markdown",
   "metadata": {},
   "source": [
    "#### Laden und Vorbereiten des `automobile`-Datensatzes ####"
   ]
  },
  {
   "cell_type": "code",
   "execution_count": 1,
   "metadata": {
    "collapsed": false
   },
   "outputs": [],
   "source": [
    "import pandas as pd"
   ]
  },
  {
   "cell_type": "code",
   "execution_count": 7,
   "metadata": {
    "collapsed": true
   },
   "outputs": [],
   "source": [
    "namesString = [\"symboling\", \"normalized-losses\", \"make\", \"fuel-type\", \"aspiration\", \"num-of-doors\", \"body-style\", \n",
    "               \"drive-wheels\", \"engine-location\", \"wheel-base\", \"length\", \"width\", \"height\", \"curb-weight\", \"engine-type\", \n",
    "               \"num-of-cylinders\", \"engine-size\", \"fuel-system\", \"bore\", \"stroke\", \"compression-ratio\", \"horsepower\", \n",
    "               \"peak-rpm\", \"city-mpg\", \"highway-mpg\", \"price\"]\n",
    "data = pd.read_csv(\"https://archive.ics.uci.edu/ml/machine-learning-databases/autos/imports-85.data\",header=None,na_values=\"?\",names=namesString)"
   ]
  },
  {
   "cell_type": "code",
   "execution_count": 8,
   "metadata": {
    "collapsed": true
   },
   "outputs": [],
   "source": [
    "data = data.dropna()"
   ]
  },
  {
   "cell_type": "code",
   "execution_count": 14,
   "metadata": {
    "collapsed": false
   },
   "outputs": [],
   "source": [
    "data.symboling = data.symboling.astype(dtype=\"category\")\n",
    "data.symboling.cat.set_categories([-3,-2,-1,0,1,2,3], inplace=True)\n",
    "data.symboling.cat.reorder_categories([-3,-2,-1,0,1,2,3], ordered=True, inplace=True)\n",
    "\n",
    "data['num-of-doors'] = data['num-of-doors'].astype(dtype=\"category\")\n",
    "data['num-of-doors'].cat.set_categories(['two', 'four'], inplace=True)\n",
    "data['num-of-doors'].cat.reorder_categories(['two', 'four'], ordered=True, inplace=True)\n",
    "\n",
    "data['num-of-cylinders'] = data['num-of-cylinders'].astype(dtype=\"category\")\n",
    "data['num-of-cylinders'].cat.set_categories(['eight', 'five', 'four', 'six', 'three', 'twelve', 'two'], inplace=True)\n",
    "data['num-of-cylinders'].cat.reorder_categories(['two', 'three', 'four', 'five', 'six', 'eight', 'twelve'], ordered=True, inplace=True)"
   ]
  },
  {
   "cell_type": "code",
   "execution_count": 15,
   "metadata": {
    "collapsed": true
   },
   "outputs": [],
   "source": [
    "data['make'] = data['make'].astype(\"category\")\n",
    "data['fuel-type'] = data['fuel-type'].astype(\"category\")\n",
    "data['aspiration'] = data['aspiration'].astype(\"category\")\n",
    "data['body-style'] = data['body-style'].astype(\"category\")\n",
    "data['drive-wheels'] = data['drive-wheels'].astype(\"category\")\n",
    "data['engine-location'] = data['engine-location'].astype(\"category\")\n",
    "data['engine-type'] = data['engine-type'].astype(\"category\")\n",
    "data['fuel-system'] = data['fuel-system'].astype(\"category\")"
   ]
  },
  {
   "cell_type": "code",
   "execution_count": 16,
   "metadata": {
    "collapsed": false,
    "scrolled": true
   },
   "outputs": [
    {
     "name": "stdout",
     "output_type": "stream",
     "text": [
      "<class 'pandas.core.frame.DataFrame'>\n",
      "Int64Index: 159 entries, 3 to 204\n",
      "Data columns (total 26 columns):\n",
      "symboling            159 non-null category\n",
      "normalized-losses    159 non-null float64\n",
      "make                 159 non-null category\n",
      "fuel-type            159 non-null category\n",
      "aspiration           159 non-null category\n",
      "num-of-doors         159 non-null category\n",
      "body-style           159 non-null category\n",
      "drive-wheels         159 non-null category\n",
      "engine-location      159 non-null category\n",
      "wheel-base           159 non-null float64\n",
      "length               159 non-null float64\n",
      "width                159 non-null float64\n",
      "height               159 non-null float64\n",
      "curb-weight          159 non-null int64\n",
      "engine-type          159 non-null category\n",
      "num-of-cylinders     159 non-null category\n",
      "engine-size          159 non-null int64\n",
      "fuel-system          159 non-null category\n",
      "bore                 159 non-null float64\n",
      "stroke               159 non-null float64\n",
      "compression-ratio    159 non-null float64\n",
      "horsepower           159 non-null float64\n",
      "peak-rpm             159 non-null float64\n",
      "city-mpg             159 non-null int64\n",
      "highway-mpg          159 non-null int64\n",
      "price                159 non-null float64\n",
      "dtypes: category(11), float64(11), int64(4)\n",
      "memory usage: 22.0 KB\n"
     ]
    }
   ],
   "source": [
    "data.info()"
   ]
  },
  {
   "cell_type": "markdown",
   "metadata": {},
   "source": [
    "### a) Distanzmatrix ###"
   ]
  },
  {
   "cell_type": "markdown",
   "metadata": {},
   "source": [
    "### b) MDS ###"
   ]
  },
  {
   "cell_type": "markdown",
   "metadata": {},
   "source": [
    "### c) Stress ###"
   ]
  },
  {
   "cell_type": "markdown",
   "metadata": {},
   "source": [
    " "
   ]
  },
  {
   "cell_type": "markdown",
   "metadata": {},
   "source": [
    "## Aufgabe 4.2: Distanzmaße ##"
   ]
  },
  {
   "cell_type": "markdown",
   "metadata": {},
   "source": [
    "### a) Beweis: Gemischte Distanzfunktion ist eine Metrik ###"
   ]
  },
  {
   "cell_type": "markdown",
   "metadata": {},
   "source": [
    "Sei $p$ die Anzahl der Attribute unterschiedlichen Typs.\n",
    " \n",
    "Zu zeigen: Die Funktion $ d: X \\times X \\to \\mathbb {R} $ mit\n",
    "\n",
    "$$\n",
    "d(x_i,x_j) = \\frac{\\sum_{f=1}^p \\delta_{ij}^{(f)} d_{ij}^{(f)}} {\\sum_{f=1}^p \\delta_{ij}^{(f)}}\n",
    "$$\n",
    "\n",
    "ist eine Metrik, wenn $d_{ij}^{(f)}$ metrisch ist.\n",
    "\n",
    "\n",
    "\n",
    "Es müssen dafür die folgenden 3 Axiome gelten:\n",
    "\n",
    "1. Positive Definitheit: \n",
    "$d (x_i, x_j) \\geq 0$ und $d (x_i, x_j) = 0 \\Leftrightarrow x_i = x_j$\n",
    "\n",
    "2. Symmetrie: \n",
    "$d (x_i, x_j) = d (x_j, x_i)$\n",
    "\n",
    "3. Dreiecksungleichung: \n",
    "$d (x_i, x_j) \\leq d (x_i, x_k) + d (x_k, x_j)$"
   ]
  },
  {
   "cell_type": "markdown",
   "metadata": {},
   "source": [
    "Es sei $d_{ij}^{(f)}$ eine Metrik. Dann dürfen keine $x_{if}$ undefiniert sein, da alle Distanzen bestimmbar sein müssen.\n",
    "\n",
    "**Zu 1. **\n",
    "\n",
    "Zu zeigen: $d (x_i, x_j) \\geq 0$\n",
    "\n",
    "* Nach Voraussetzung gilt: $d_{ij}^{(f)} \\geq 0$ für alle $f \\in \\{1,...,p\\}$.\n",
    "\n",
    "  Für den binären Indikator $\\delta_{ij}^{(f)}$ gilt nach Definition: \n",
    "\n",
    "     $\\delta_{ij}^{(f)} \\in {0,1}$ für alle $i,j \\in \\{1,...,n\\}$ und $f \\in \\{1,...,p\\}$, also $\\delta_{ij}^{(f)} \\geq 0$\n",
    "\n",
    "   Daraus folgt: \n",
    "   $$\n",
    "   \\frac{\\sum_{f=1}^p \\delta_{ij}^{(f)} d_{ij}^{(f)}} {\\sum_{f=1}^p \\delta_{ij}^{(f)}} \\geq 0 \\Leftrightarrow d (x_i, x_j) \\geq 0\n",
    "   $$ \n",
    "\n",
    "\n",
    "Noch zu zeigen: $d (x_i, x_j) = 0 \\Leftrightarrow x_i = x_j$. Zeige dazu beide Richtungen:\n",
    "\n",
    "* $\\Leftarrow$\n",
    "\n",
    "  Wenn $x_i = x_j$, dann folgt, weil $d_{ij}^{(f)}$ metrisch ist, dass $d_{ij}^{(f)} = 0$ für alle $f \\in \\{1,...,p\\}$ und daraus folgt: $\\frac{\\sum_{f=1}^p \\delta_{ij}^{(f)} d_{ij}^{(f)}} {\\sum_{f=1}^p \\delta_{ij}^{(f)}} = 0 \\Leftrightarrow d (x_i, x_j) = 0$ \n",
    "\n",
    "\n",
    "* $\\Rightarrow$\n",
    "\n",
    "  Sei nun $d (x_i, x_j) = 0$, dann muss $\\sum_{f=1}^p \\delta_{ij}^{(f)} d_{ij}^{(f)} = 0$ sein. Betrachte zwei Fälle:\n",
    "\n",
    "  1. Falls $d_{ij}^{(f)} = 0$ für alle $f \\in \\{1,...,p\\}$ gilt nach Voraussetzung $x_i = x_j$.\n",
    "\n",
    "  2. Angenommen es gäbe ein $f_x \\in \\{1,...,p\\}$ sodass $d_{ij}^{(f_x)} \\neq 0$. Dann folgt daraus, dass $\\delta_{ij}^{(f_x)} = 0$ sein muss. Dies ist allerdings nur der Fall, wenn $x_{if_x} = x_{jf_x}$ (für ein binäres asymetrisches Attribut $f_x$). Und dann gilt weiterhin $x_i = x_j$.\n",
    "\n",
    "\n",
    "* Zusammen gilt also: \n",
    "$$\n",
    "d (x_i, x_j) = 0 \\Leftrightarrow x_i = x_j\n",
    "$$"
   ]
  },
  {
   "cell_type": "markdown",
   "metadata": {},
   "source": [
    "**Zu 2.**\n",
    "\n",
    "Zu zeigen: $d (x_i, x_j) = d (x_j, x_i)$\n",
    "\n",
    "* Nach Voraussetzung gilt: $d_{ij}^f = d_{ji}^f$ für alle $f \\in \\{1,...,p\\}$\n",
    "\n",
    "  Und auch für $\\delta_{ij}^{(f)}$ gilt nach Definition, dass $\\delta_{ij}^{(f)} = \\delta_{ji}^{(f)}$ für alle $i,j \\in \\{1,...,n\\}$ und $f \\in \\{1,...,p\\}$\n",
    "\n",
    "  Also gilt auch: $\\sum_{f=1}^p \\delta_{ij}^{(f)} d_{ij}^{(f)} = \\sum_{f=1}^p \\delta_{ij}^{(f)} d_{ji}^{(f)}$\n",
    "  \n",
    "  Und daraus folgt: \n",
    "  $$\n",
    "  \\frac{\\sum_{f=1}^p \\delta_{ij}^{(f)} d_{ij}^{(f)}} {\\sum_{f=1}^p \\delta_{ij}^{(f)}} = \\frac{\\sum_{f=1}^p \\delta_{ji}^{(f)} d_{ji}^{(f)}} {\\sum_{f=1}^p \\delta_{ji}^{(f)}} \\Leftrightarrow d (x_i, x_j) = d (x_j, x_i)\n",
    "  $$\n"
   ]
  },
  {
   "cell_type": "markdown",
   "metadata": {},
   "source": [
    "**Zu 3.**\n",
    "\n",
    "Zu zeigen: $d (x_i, x_j) \\leq d (x_i, x_k) + d (x_k, x_j)$\n",
    "\n",
    "* Nach Voraussetzung gilt: $d_{ij}^f \\leq d_{ik}^f + d_{kj}^f$ für alle $f \\in \\{1,...,p\\}$\n",
    "  \n",
    "  Für $\\delta_{ij}^{(f)}$ wiederum gilt:\n",
    "  \n",
    "  Falls $\\delta_{ik}^{(f)} = 0$ oder $\\delta_{kj}^{(f)} = 0$ folgt daraus, dass auch $\\delta_{ij}^{(f)} = 0$ sein muss, da die Null nur angenommen wird, wenn zwei Attribute übereinstimmen. Es gilt also (da $\\delta_{ik}^{(f)} \\in \\{0,1\\}$) : $\\delta_{ij}^{(f)} \\leq \\delta_{ik}^{(f)} + \\delta_{kj}^{(f)}$.\n",
    "  \n",
    "  Und daraus folgt:\n",
    "  $$\n",
    "  \\frac{\\sum_{f=1}^p \\delta_{ij}^{(f)} d_{ij}^{(f)}} {\\sum_{f=1}^p \\delta_{ij}^{(f)}} \\leq \n",
    "  \\frac{\\sum_{f=1}^p \\delta_{ik}^{(f)} d_{ik}^{(f)}} {\\sum_{f=1}^p \\delta_{ik}^{(f)}} + \\frac{\\sum_{f=1}^p \\delta_{kj}^{(f)} d_{kj}^{(f)}} {\\sum_{f=1}^p \\delta_{kj}^{(f)}}\n",
    "  \\Leftrightarrow\n",
    "  d (x_i, x_j) \\leq d (x_i, x_k) + d (x_k, x_j)\n",
    "  $$"
   ]
  },
  {
   "cell_type": "markdown",
   "metadata": {},
   "source": [
    "### b) Speicherkomplexität von Distanzmatrizen ###"
   ]
  },
  {
   "cell_type": "markdown",
   "metadata": {},
   "source": [
    "Die Speicherkomplexität der Distanzmatrix für $n$ Werte beträgt $O(n^2)$\n",
    "\n",
    "Durch die symmetrie der Distanzen steht jeder Distanzwert zwei Mal in der Matrix, einmal an Position $i,j$ und noch einmal an Position $j,i$. Um Speicherplatz zusparen müsste man eine andere Datenstruktur als eine Matrix wählen, sodass die doppelten Werte nur einmal gespeichert werden müssen. \n",
    "\n",
    "Beispielsweise könnte man eine Liste der Distanzen speichern und zu jedem Distanzeintrag die beiden betreffenden Punkte (Start und Ende) speichern. Dies kann allerdings zu anderen Problemen führen, wenn beispielsweise ein Pfad verfolgt werden soll und um die Distanzen zu ermitteln jedes Mal zwei Punktelisten nach dem Startpunkt der aktuellen Strecke durchsucht werden müssen."
   ]
  },
  {
   "cell_type": "markdown",
   "metadata": {},
   "source": [
    " "
   ]
  },
  {
   "cell_type": "markdown",
   "metadata": {
    "collapsed": true
   },
   "source": [
    "## Aufgabe 4.3: Verzerrte Werte ##"
   ]
  },
  {
   "cell_type": "markdown",
   "metadata": {},
   "source": [
    "### a) Nicht-Erwartungstreue des Schätzers der Varianz ###"
   ]
  },
  {
   "cell_type": "markdown",
   "metadata": {},
   "source": [
    "\n"
   ]
  },
  {
   "cell_type": "markdown",
   "metadata": {},
   "source": [
    "### b) Korrektur des Schätzers ###"
   ]
  },
  {
   "cell_type": "markdown",
   "metadata": {},
   "source": [
    " "
   ]
  }
 ],
 "metadata": {
  "anaconda-cloud": {},
  "kernelspec": {
   "display_name": "Python [default]",
   "language": "python",
   "name": "python3"
  },
  "language_info": {
   "codemirror_mode": {
    "name": "ipython",
    "version": 3
   },
   "file_extension": ".py",
   "mimetype": "text/x-python",
   "name": "python",
   "nbconvert_exporter": "python",
   "pygments_lexer": "ipython3",
   "version": "3.5.2"
  }
 },
 "nbformat": 4,
 "nbformat_minor": 1
}
