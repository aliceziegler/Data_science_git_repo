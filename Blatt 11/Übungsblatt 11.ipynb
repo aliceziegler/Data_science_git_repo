{
 "cells": [
  {
   "cell_type": "markdown",
   "metadata": {
    "collapsed": true
   },
   "source": [
    "# Übungsblatt 11 #\n",
    "\n",
    "### Alice Ziegler, Daniel Schneider ###"
   ]
  },
  {
   "cell_type": "markdown",
   "metadata": {},
   "source": [
    "## Aufgabe 11.1: Warenkorbanalyse ##"
   ]
  },
  {
   "cell_type": "markdown",
   "metadata": {},
   "source": []
  },
  {
   "cell_type": "markdown",
   "metadata": {},
   "source": []
  },
  {
   "cell_type": "markdown",
   "metadata": {},
   "source": [
    " "
   ]
  },
  {
   "cell_type": "markdown",
   "metadata": {},
   "source": [
    "## Aufgabe 11.2: Warenkorbanalyse ##"
   ]
  },
  {
   "cell_type": "markdown",
   "metadata": {},
   "source": [
    "### Einlesen des Datensatzes ###"
   ]
  },
  {
   "cell_type": "code",
   "execution_count": 1,
   "metadata": {
    "collapsed": false
   },
   "outputs": [],
   "source": [
    "import csv\n",
    "from collections import Counter\n",
    "import itertools"
   ]
  },
  {
   "cell_type": "code",
   "execution_count": 2,
   "metadata": {
    "collapsed": false
   },
   "outputs": [],
   "source": [
    "def readCsv(path,delimiter):\n",
    "    with open(path, newline='') as csvfile:\n",
    "        csvReader = csv.reader(csvfile, delimiter=delimiter)\n",
    "        #for row in csvReader:\n",
    "            #print(', '.join(row))\n",
    "        return list(csvReader)"
   ]
  },
  {
   "cell_type": "code",
   "execution_count": 3,
   "metadata": {
    "collapsed": false,
    "scrolled": true
   },
   "outputs": [],
   "source": [
    "groceries = readCsv(\"data/groceries.csv\",\",\")"
   ]
  },
  {
   "cell_type": "code",
   "execution_count": 4,
   "metadata": {
    "collapsed": false,
    "scrolled": true
   },
   "outputs": [
    {
     "data": {
      "text/plain": [
       "Counter({'Instant food products': 79,\n",
       "         'UHT-milk': 329,\n",
       "         'abrasive cleaner': 35,\n",
       "         'artif. sweetener': 32,\n",
       "         'baby cosmetics': 6,\n",
       "         'baby food': 1,\n",
       "         'bags': 4,\n",
       "         'baking powder': 174,\n",
       "         'bathroom cleaner': 27,\n",
       "         'beef': 516,\n",
       "         'berries': 327,\n",
       "         'beverages': 256,\n",
       "         'bottled beer': 792,\n",
       "         'bottled water': 1087,\n",
       "         'brandy': 41,\n",
       "         'brown bread': 638,\n",
       "         'butter': 545,\n",
       "         'butter milk': 275,\n",
       "         'cake bar': 130,\n",
       "         'candles': 88,\n",
       "         'candy': 294,\n",
       "         'canned beer': 764,\n",
       "         'canned fish': 148,\n",
       "         'canned fruit': 32,\n",
       "         'canned vegetables': 106,\n",
       "         'cat food': 229,\n",
       "         'cereals': 56,\n",
       "         'chewing gum': 207,\n",
       "         'chicken': 422,\n",
       "         'chocolate': 488,\n",
       "         'chocolate marshmallow': 89,\n",
       "         'citrus fruit': 814,\n",
       "         'cleaner': 50,\n",
       "         'cling film/bags': 112,\n",
       "         'cocoa drinks': 22,\n",
       "         'coffee': 571,\n",
       "         'condensed milk': 101,\n",
       "         'cooking chocolate': 25,\n",
       "         'cookware': 27,\n",
       "         'cream': 13,\n",
       "         'cream cheese ': 390,\n",
       "         'curd': 524,\n",
       "         'curd cheese': 50,\n",
       "         'decalcifier': 15,\n",
       "         'dental care': 57,\n",
       "         'dessert': 365,\n",
       "         'detergent': 189,\n",
       "         'dish cleaner': 103,\n",
       "         'dishes': 173,\n",
       "         'dog food': 84,\n",
       "         'domestic eggs': 624,\n",
       "         'female sanitary products': 60,\n",
       "         'finished products': 64,\n",
       "         'fish': 29,\n",
       "         'flour': 171,\n",
       "         'flower (seeds)': 102,\n",
       "         'flower soil/fertilizer': 19,\n",
       "         'frankfurter': 580,\n",
       "         'frozen chicken': 6,\n",
       "         'frozen dessert': 106,\n",
       "         'frozen fish': 115,\n",
       "         'frozen fruits': 12,\n",
       "         'frozen meals': 279,\n",
       "         'frozen potato products': 83,\n",
       "         'frozen vegetables': 473,\n",
       "         'fruit/vegetable juice': 711,\n",
       "         'grapes': 220,\n",
       "         'hair spray': 11,\n",
       "         'ham': 256,\n",
       "         'hamburger meat': 327,\n",
       "         'hard cheese': 241,\n",
       "         'herbs': 160,\n",
       "         'honey': 15,\n",
       "         'house keeping products': 82,\n",
       "         'hygiene articles': 324,\n",
       "         'ice cream': 246,\n",
       "         'instant coffee': 73,\n",
       "         'jam': 53,\n",
       "         'ketchup': 42,\n",
       "         'kitchen towels': 59,\n",
       "         'kitchen utensil': 4,\n",
       "         'light bulbs': 41,\n",
       "         'liqueur': 9,\n",
       "         'liquor': 109,\n",
       "         'liquor (appetizer)': 78,\n",
       "         'liver loaf': 50,\n",
       "         'long life bakery product': 368,\n",
       "         'make up remover': 8,\n",
       "         'male cosmetics': 45,\n",
       "         'margarine': 576,\n",
       "         'mayonnaise': 90,\n",
       "         'meat': 254,\n",
       "         'meat spreads': 42,\n",
       "         'misc. beverages': 279,\n",
       "         'mustard': 118,\n",
       "         'napkins': 515,\n",
       "         'newspapers': 785,\n",
       "         'nut snack': 31,\n",
       "         'nuts/prunes': 33,\n",
       "         'oil': 276,\n",
       "         'onions': 305,\n",
       "         'organic products': 16,\n",
       "         'organic sausage': 22,\n",
       "         'other vegetables': 1903,\n",
       "         'packaged fruit/vegetables': 128,\n",
       "         'pasta': 148,\n",
       "         'pastry': 875,\n",
       "         'pet care': 93,\n",
       "         'photo/film': 91,\n",
       "         'pickled vegetables': 176,\n",
       "         'pip fruit': 744,\n",
       "         'popcorn': 71,\n",
       "         'pork': 567,\n",
       "         'pot plants': 170,\n",
       "         'potato products': 28,\n",
       "         'preservation products': 2,\n",
       "         'processed cheese': 163,\n",
       "         'prosecco': 20,\n",
       "         'pudding powder': 23,\n",
       "         'ready soups': 18,\n",
       "         'red/blush wine': 189,\n",
       "         'rice': 75,\n",
       "         'roll products ': 101,\n",
       "         'rolls/buns': 1809,\n",
       "         'root vegetables': 1072,\n",
       "         'rubbing alcohol': 10,\n",
       "         'rum': 44,\n",
       "         'salad dressing': 8,\n",
       "         'salt': 106,\n",
       "         'salty snack': 372,\n",
       "         'sauces': 54,\n",
       "         'sausage': 924,\n",
       "         'seasonal products': 140,\n",
       "         'semi-finished bread': 174,\n",
       "         'shopping bags': 969,\n",
       "         'skin care': 35,\n",
       "         'sliced cheese': 241,\n",
       "         'snack products': 30,\n",
       "         'soap': 26,\n",
       "         'soda': 1715,\n",
       "         'soft cheese': 168,\n",
       "         'softener': 54,\n",
       "         'sound storage medium': 1,\n",
       "         'soups': 67,\n",
       "         'sparkling wine': 55,\n",
       "         'specialty bar': 269,\n",
       "         'specialty cheese': 84,\n",
       "         'specialty chocolate': 299,\n",
       "         'specialty fat': 36,\n",
       "         'specialty vegetables': 17,\n",
       "         'spices': 51,\n",
       "         'spread cheese': 110,\n",
       "         'sugar': 333,\n",
       "         'sweet spreads': 89,\n",
       "         'syrup': 32,\n",
       "         'tea': 38,\n",
       "         'tidbits': 23,\n",
       "         'toilet cleaner': 7,\n",
       "         'tropical fruit': 1032,\n",
       "         'turkey': 80,\n",
       "         'vinegar': 64,\n",
       "         'waffles': 378,\n",
       "         'whipped/sour cream': 705,\n",
       "         'whisky': 8,\n",
       "         'white bread': 414,\n",
       "         'white wine': 187,\n",
       "         'whole milk': 2513,\n",
       "         'yogurt': 1372,\n",
       "         'zwieback': 68})"
      ]
     },
     "execution_count": 4,
     "metadata": {},
     "output_type": "execute_result"
    }
   ],
   "source": [
    "Counter(x for subset in groceries for x in subset)"
   ]
  },
  {
   "cell_type": "markdown",
   "metadata": {},
   "source": [
    "### a) Frequent Itemsets: a-priori-Algorithmus ###"
   ]
  },
  {
   "cell_type": "code",
   "execution_count": 5,
   "metadata": {
    "collapsed": true
   },
   "outputs": [],
   "source": [
    "def sortedTransaktions(D):\n",
    "    Dsort = list(D)\n",
    "    for i in range(len(Dsort)):\n",
    "        Dsort[i] = sorted(Dsort[i], key=str.lower)\n",
    "    return Dsort"
   ]
  },
  {
   "cell_type": "code",
   "execution_count": 6,
   "metadata": {
    "collapsed": true
   },
   "outputs": [],
   "source": [
    "def getUniverse(D):\n",
    "    U = []\n",
    "    for i in range(len(D)):\n",
    "        for j in range(len(D[i])):\n",
    "            if D[i][j] not in U:\n",
    "                U.append(D[i][j])\n",
    "    return sorted(U, key=str.lower)"
   ]
  },
  {
   "cell_type": "code",
   "execution_count": 7,
   "metadata": {
    "collapsed": false
   },
   "outputs": [],
   "source": [
    "def support(x,D):\n",
    "    count = 0\n",
    "    for j in range(len(D)):\n",
    "        if isSubList(x,D[j]):\n",
    "        #if all([(y in D[j]) for y in x]):\n",
    "            count += 1\n",
    "    return count/len(D)"
   ]
  },
  {
   "cell_type": "code",
   "execution_count": 8,
   "metadata": {
    "collapsed": true
   },
   "outputs": [],
   "source": [
    "def aPrioryGenerate(L, k):\n",
    "    C = []\n",
    "    \n",
    "    for i in range(len(L)):\n",
    "        for j in range(i,len(L)):\n",
    "            if(L[i][0:k-1] == L[j][0:k-1]):\n",
    "                c = list(L[i][0:k-1])\n",
    "                c.extend(sorted([L[i][k-1],L[j][k-1]], key=str.lower))\n",
    "                \n",
    "                #if not c in C:\n",
    "                if not hasInfrequentSubset(c, L):\n",
    "                    C.append(c)\n",
    "    \n",
    "    return C"
   ]
  },
  {
   "cell_type": "code",
   "execution_count": 9,
   "metadata": {
    "collapsed": true
   },
   "outputs": [],
   "source": [
    "def hasInfrequentSubset(c, L):\n",
    "    for i in range(len(c)):\n",
    "        s = c[:i] + c[i+1:]\n",
    "        \n",
    "        for j in range(len(L)):\n",
    "            if s == L[j]:\n",
    "                break\n",
    "        else:\n",
    "            return True\n",
    "    \n",
    "    return False"
   ]
  },
  {
   "cell_type": "code",
   "execution_count": 10,
   "metadata": {
    "collapsed": false
   },
   "outputs": [],
   "source": [
    "def isSubList(subList,parentList):\n",
    "    if len(subList) <= len(parentList):\n",
    "        i = 0\n",
    "        j = 0\n",
    "        while j < len(parentList):\n",
    "            if i >= len(subList):\n",
    "                return True\n",
    "            else:\n",
    "                if subList[i] == parentList[j]:\n",
    "                    i += 1\n",
    "                    j += 1\n",
    "                else:\n",
    "                    j += 1\n",
    "        \n",
    "        if i >= len(subList):\n",
    "            return True\n",
    "    \n",
    "    return False"
   ]
  },
  {
   "cell_type": "code",
   "execution_count": 11,
   "metadata": {
    "collapsed": false
   },
   "outputs": [],
   "source": [
    "def findFrequentItemsets(D, minSup):\n",
    "    D = sortedTransaktions(D)\n",
    "    \n",
    "    L = []\n",
    "    k = 0\n",
    "    \n",
    "    #Frequent-1-Itemsets\n",
    "    C = [[u] for u in getUniverse(D)]\n",
    "    #print(len(C))\n",
    "    \n",
    "    Lcurr = []\n",
    "    for i in range(len(C)):\n",
    "        if support(C[i],D) >= minSup:\n",
    "            Lcurr.append(C[i])\n",
    "    \n",
    "    L.extend(Lcurr)\n",
    "    #print(Lcurr)\n",
    "    #print(len(Lcurr))\n",
    "    \n",
    "    while(Lcurr):\n",
    "        k = k+1\n",
    "        \n",
    "        C = aPrioryGenerate(Lcurr, k)\n",
    "        #print(len(C))\n",
    "        \n",
    "        Lcurr = []\n",
    "        for i in range(len(C)):\n",
    "            if support(C[i],D) >= minSup:\n",
    "                Lcurr.append(C[i])\n",
    "        \n",
    "        #print(Lcurr)\n",
    "        #print(len(Lcurr))\n",
    "        \n",
    "        L.extend(Lcurr)\n",
    "        #L = [c for c in C if LPrev.count(c) >= minSup]\n",
    "        \n",
    "    return L"
   ]
  },
  {
   "cell_type": "code",
   "execution_count": 12,
   "metadata": {
    "collapsed": false,
    "scrolled": true
   },
   "outputs": [],
   "source": [
    "groceriesFrequent = findFrequentItemsets(groceries, 0.03)"
   ]
  },
  {
   "cell_type": "markdown",
   "metadata": {},
   "source": [
    "#### Ergebnis: Frequent-Itemsets des `groceries`-Datensatzes ####"
   ]
  },
  {
   "cell_type": "code",
   "execution_count": 13,
   "metadata": {
    "collapsed": false,
    "scrolled": true
   },
   "outputs": [
    {
     "data": {
      "text/plain": [
       "[['beef'],\n",
       " ['berries'],\n",
       " ['bottled beer'],\n",
       " ['bottled water'],\n",
       " ['brown bread'],\n",
       " ['butter'],\n",
       " ['canned beer'],\n",
       " ['chicken'],\n",
       " ['chocolate'],\n",
       " ['citrus fruit'],\n",
       " ['coffee'],\n",
       " ['cream cheese '],\n",
       " ['curd'],\n",
       " ['dessert'],\n",
       " ['domestic eggs'],\n",
       " ['frankfurter'],\n",
       " ['frozen vegetables'],\n",
       " ['fruit/vegetable juice'],\n",
       " ['hamburger meat'],\n",
       " ['hygiene articles'],\n",
       " ['long life bakery product'],\n",
       " ['margarine'],\n",
       " ['napkins'],\n",
       " ['newspapers'],\n",
       " ['onions'],\n",
       " ['other vegetables'],\n",
       " ['pastry'],\n",
       " ['pip fruit'],\n",
       " ['pork'],\n",
       " ['rolls/buns'],\n",
       " ['root vegetables'],\n",
       " ['salty snack'],\n",
       " ['sausage'],\n",
       " ['shopping bags'],\n",
       " ['soda'],\n",
       " ['specialty chocolate'],\n",
       " ['sugar'],\n",
       " ['tropical fruit'],\n",
       " ['UHT-milk'],\n",
       " ['waffles'],\n",
       " ['whipped/sour cream'],\n",
       " ['white bread'],\n",
       " ['whole milk'],\n",
       " ['yogurt'],\n",
       " ['bottled water', 'whole milk'],\n",
       " ['citrus fruit', 'whole milk'],\n",
       " ['other vegetables', 'rolls/buns'],\n",
       " ['other vegetables', 'root vegetables'],\n",
       " ['other vegetables', 'soda'],\n",
       " ['other vegetables', 'tropical fruit'],\n",
       " ['other vegetables', 'whole milk'],\n",
       " ['other vegetables', 'yogurt'],\n",
       " ['pastry', 'whole milk'],\n",
       " ['pip fruit', 'whole milk'],\n",
       " ['rolls/buns', 'sausage'],\n",
       " ['rolls/buns', 'soda'],\n",
       " ['rolls/buns', 'whole milk'],\n",
       " ['rolls/buns', 'yogurt'],\n",
       " ['root vegetables', 'whole milk'],\n",
       " ['soda', 'whole milk'],\n",
       " ['tropical fruit', 'whole milk'],\n",
       " ['whipped/sour cream', 'whole milk'],\n",
       " ['whole milk', 'yogurt']]"
      ]
     },
     "execution_count": 13,
     "metadata": {},
     "output_type": "execute_result"
    }
   ],
   "source": [
    "groceriesFrequent"
   ]
  },
  {
   "cell_type": "markdown",
   "metadata": {},
   "source": [
    "### b) Confidence ###"
   ]
  },
  {
   "cell_type": "code",
   "execution_count": 14,
   "metadata": {
    "collapsed": false
   },
   "outputs": [],
   "source": [
    "def calculatePartitions(itemSet):\n",
    "    rules = []\n",
    "    combinations = []\n",
    "    \n",
    "    for size in range(1,len(itemSet)):\n",
    "        combinations.extend([list(x) for x in itertools.combinations(itemSet,size)])\n",
    "        \n",
    "    #print(combinations)\n",
    "    #print(len(combinations))\n",
    "    \n",
    "    for i in range(len(combinations)):\n",
    "        for j in range(len(combinations)):\n",
    "            if not (list(set(combinations[i]) & set(combinations[j]))):\n",
    "                rules.append((combinations[i],combinations[j]))\n",
    "    return rules"
   ]
  },
  {
   "cell_type": "code",
   "execution_count": 15,
   "metadata": {
    "collapsed": true
   },
   "outputs": [],
   "source": [
    "def findStrongRules(freqItemsets, D, minConfidence):\n",
    "    D = sortedTransaktions(D)\n",
    "    \n",
    "    rules = []\n",
    "    \n",
    "    for itemSet in freqItemsets:\n",
    "        rules.extend(calculatePartitions(itemSet))\n",
    "    \n",
    "    #print(rules)\n",
    "    \n",
    "    strongRules = []\n",
    "    \n",
    "    for (ruleL,ruleR) in rules:\n",
    "        confidence = support(sorted(ruleL + ruleR, key=str.lower), D) / support(ruleL, D)\n",
    "        #print(str(ruleL)+\",\"+str(ruleR)+\":\"+str(confidence))\n",
    "        \n",
    "        if confidence >= minConfidence:\n",
    "            strongRules.append((ruleL,ruleR))\n",
    "    \n",
    "    return strongRules"
   ]
  },
  {
   "cell_type": "code",
   "execution_count": 16,
   "metadata": {
    "collapsed": false,
    "scrolled": true
   },
   "outputs": [],
   "source": [
    "groceriesStrongRules = findStrongRules(groceriesFrequent,groceries,0.4)"
   ]
  },
  {
   "cell_type": "markdown",
   "metadata": {},
   "source": [
    "#### Ergebnis: Starke Regeln des `groceries`-Datensatzes ####"
   ]
  },
  {
   "cell_type": "code",
   "execution_count": 17,
   "metadata": {
    "collapsed": false
   },
   "outputs": [
    {
     "name": "stdout",
     "output_type": "stream",
     "text": [
      "['root vegetables'] => ['other vegetables']\n",
      "['root vegetables'] => ['whole milk']\n",
      "['tropical fruit'] => ['whole milk']\n",
      "['whipped/sour cream'] => ['whole milk']\n",
      "['yogurt'] => ['whole milk']\n"
     ]
    }
   ],
   "source": [
    "for (ruleL,ruleR) in groceriesStrongRules:\n",
    "    print(str(ruleL)+\" => \"+str(ruleR))"
   ]
  },
  {
   "cell_type": "markdown",
   "metadata": {},
   "source": [
    " "
   ]
  },
  {
   "cell_type": "markdown",
   "metadata": {},
   "source": [
    "## Aufgabe 11.3: Assoziationsregeln ##"
   ]
  },
  {
   "cell_type": "markdown",
   "metadata": {},
   "source": [
    "Bei der Zuordnung der Elemente eines Itemsets zu einer Assoziationsregel gibt es grundsätzlich für jedes Element 3 Entscheidungsmöglichkeiten:\n",
    "1. auf der linken Seite der Regel\n",
    "2. gar nicht in der Regel\n",
    "3. auf der rechten Seite der Regel\n",
    "\n",
    "Das ergibt bei $d$ Elementen eine Anzahl von $A = 3^d$ Regeln.\n",
    "\n",
    "Allerdings sind einige dieser Regeln nicht gültig. Die linke und rechte Regelseite dürfen nicht leer sein.\n",
    "\n",
    "Man kann einen Entscheidungsbaum aufstellen, in dem jedes Element eine Ebene bildet, auf der für dieses Element die Entscheidung zwischen den oben genannten Möglichkeiten getroffen wird. (L steht in der folgenden Grafik für die Entscheidungsmöglichkeit für die linke Seite, R für die für die der rechten Seite und x für die Entscheidung das Objekt nicht in die Regel aufzunehmen)"
   ]
  },
  {
   "cell_type": "markdown",
   "metadata": {},
   "source": [
    "![Baum](data/Baum.png \"Entscheidungsbaum\")"
   ]
  },
  {
   "cell_type": "markdown",
   "metadata": {},
   "source": [
    "Dabei sind in diesem Baum nur die Pfade gültig, in denen mindestens einmal die Entscheidung für die linke Regelseite und mindestens einmal die Entscheidung für die rechte Regelseite getroffen wurde.\n",
    "\n",
    "Das heißt umgekehrt, dass alle Pfade ungültig sind, in denen nur die Entscheidung für die immer gleiche Regelseite oder gar keine Regelseite getroffen wurde. In diesem Fall sind auf der letzten Ebene des Baums von den 3 möglichen Entscheidungen 2 ungültig. Mit jeder Ebene, um die der Baum wächst, verdoppelt sich die Anzahl dieser ungültigen Pfade, bei $d$ Ebenen des Baumes erhält man also $2^d$ ungültige Pfade. \n",
    "\n",
    "Daher kann man von den $A$ Assoziationsregeln $2^d$ ungültige Regeln abziehen.\n",
    "\n",
    "Die folgende Grafik zeigt einen Teilbaum, bei dem bislang nur die linke Seite oder gar keine gewählt wurde. Gültige Pfade sind grün markiert, ungültige rot."
   ]
  },
  {
   "cell_type": "markdown",
   "metadata": {},
   "source": [
    "![BaumLinks](data/BaumLinks.png \"Linker Pfad\")"
   ]
  },
  {
   "cell_type": "markdown",
   "metadata": {},
   "source": [
    "Dazu kommt der mittlere Teilbaum (Element nicht in der Regel), in dem es den Fall gibt, dass bis zur vorletzten Entscheidungsebene immer die Entscheidung für Nichtaufnahme in die Regel getroffen wurde. In diesem Fall sind sogar alle 3 Entscheidungen der letzten Ebene ungültig. Wenn der Baum um eine weitere Ebene wächst, entstehen drei Teilbäume, von denen wieder im mittleren alle 3 Entscheidungen ungültig sind. \n",
    "\n",
    "Im linken und rechten Teilbaum sind jeweils 2 von 3 Entscheidungen ungültig. Die Anzahl ungültiger Entscheidungen ist also von 3 auf 7 gewachsen. \n",
    "\n",
    "Man kann die ungültigen Entscheidungen auch als $x - 1$ mit $x:=4$ definieren. Dann gilt auch hier, dass sich mit jeder Ebene, die der Baum wächst, $x$ verdoppelt. Man kann also weitere $2^d - 1$ ungültige Regeln von $A$ abziehen.\n",
    "\n",
    "Die folgende Grafik zeigt den Teilbaum, bei dem bislang immer die Entscheidung für keine Aufnahme in die Regel getroffen wurde. Gültige Pfade sind grün markiert, ungültige rot."
   ]
  },
  {
   "cell_type": "markdown",
   "metadata": {},
   "source": [
    "![BaumMitte](data/BaumMitte.png \"Mittlerer Pfad\")"
   ]
  },
  {
   "cell_type": "markdown",
   "metadata": {},
   "source": [
    "Daraus ergibt sich insgesammt bei $d$ Elementen eines Itemsets also eine Anzahl von\n",
    "\n",
    "$$\n",
    "\\begin {align}\n",
    "& 3^d - 2^d - (2^d - 1) \\\\\n",
    "=\\quad & 3^d - 2*2^d + 1 \\\\\n",
    "=\\quad & 3^d - 2^{d+1} + 1 \\\\\n",
    "\\end{align}\n",
    "$$\n",
    "Assoziationsregeln."
   ]
  },
  {
   "cell_type": "markdown",
   "metadata": {},
   "source": [
    " "
   ]
  }
 ],
 "metadata": {
  "anaconda-cloud": {},
  "kernelspec": {
   "display_name": "Python [default]",
   "language": "python",
   "name": "python3"
  },
  "language_info": {
   "codemirror_mode": {
    "name": "ipython",
    "version": 3
   },
   "file_extension": ".py",
   "mimetype": "text/x-python",
   "name": "python",
   "nbconvert_exporter": "python",
   "pygments_lexer": "ipython3",
   "version": "3.5.2"
  }
 },
 "nbformat": 4,
 "nbformat_minor": 1
}
