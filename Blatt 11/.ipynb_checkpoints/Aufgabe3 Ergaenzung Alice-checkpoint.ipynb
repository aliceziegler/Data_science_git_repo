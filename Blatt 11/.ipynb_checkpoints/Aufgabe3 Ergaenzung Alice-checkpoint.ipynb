{
 "cells": [
  {
   "cell_type": "markdown",
   "metadata": {},
   "source": [
    "Mathematisch kann dieser Zusammenhang wie folgt hergeleitet werden: \n",
    "\n",
    "$\n",
    "\\begin{align}\n",
    "X &\\rightarrow Y \\\\\n",
    "X &= \\{1\\}  \\\\\n",
    "Y &= \\{1...(d-1)\\}\\\\\n",
    "d &\\left( {d \\choose n}^{-1} \\right) + {{d-1} \\choose 2} + {{d-1} \\choose 3} + ... = \\\\\n",
    "d &\\sum^{d-1}_{k=1}{{d-1} \\choose k}\\\\\n",
    "&... \\\\\n",
    "X &= \\{k\\} \\\\\n",
    "Y &= \\{1...(d-k)\\}\\\\\n",
    "& {d \\choose {k}} \\sum^{d-k}_{i=1} {{d-k} \\choose i} = {d \\choose k} \\left( {{d-k} \\choose 1} + {{d-k} \\choose 2} + {{d-k} \\choose 3} + ...+ {{d-k} \\choose {d-k}}\\right)\\\\\n",
    "& {d \\choose k} \\left( \\sum^{d-k}_{i=0} {{d-k} \\choose i} -1 \\right) = {d \\choose k} \\left( 2^{d-k}-1\\right) (siehe\\ 1)\\\\\n",
    "bei\\ Berücksichtigung\\ aller\\ Auswahlregeln\\ für\\ d\\ Elemente:\\ \\\\\n",
    "\\sum^d_{k=1} {d \\choose k} (2^{d-k}-1) &= \\sum^d_{k=1} \\left( {d \\choose k} (2^{d-k}-{d \\choose k}\\right) (siehe\\ 2) \\\\\n",
    "2^d \\sum^d_{k=1} {d \\choose k} 2^{-k} - \\sum^d_{k=1} {d \\choose k} &= 2^d \\sum^d_{k=1} {d \\choose k} {\\frac {1}{2}}^k -(2^d -1) \\\\\n",
    "&= 2^d \\left( (1+\\frac{1}{2})^d -1 \\right) - (2^d -1) \\\\\n",
    "&= 2^d (\\frac{3}{2})^d - 2^d - 2^d + 1\\\\\n",
    "&= 3^d - 2^{d-1} + 1\n",
    "\\\\\n",
    "\\\\\n",
    "wobei\\ nach\\ den\\ Rechenregeln\\ für \\ Binomialkoeffizienten\\ gilt:\\ \\\\\n",
    "\\sum^{n}_{k=0} {n \\choose k} &= 2^n \\ \\ \\ \\ \\ \\ \\ (1)\\\\\n",
    "und\\\\\n",
    "\\sum^{n}_{k=0} {n \\choose k} r^k &= (1+r)^n \\ \\ \\ \\ \\ \\ \\ (2)\\\\\n",
    "\\end{align}\n",
    "$"
   ]
  }
 ],
 "metadata": {
  "anaconda-cloud": {},
  "kernelspec": {
   "display_name": "Python [default]",
   "language": "python",
   "name": "python3"
  },
  "language_info": {
   "codemirror_mode": {
    "name": "ipython",
    "version": 3
   },
   "file_extension": ".py",
   "mimetype": "text/x-python",
   "name": "python",
   "nbconvert_exporter": "python",
   "pygments_lexer": "ipython3",
   "version": "3.5.2"
  }
 },
 "nbformat": 4,
 "nbformat_minor": 2
}
