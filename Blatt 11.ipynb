{
 "cells": [
  {
   "cell_type": "markdown",
   "metadata": {},
   "source": [
    "# Aufgabe 11.1\n",
    "\n",
    "$$\n",
    "\\begin{align}\n",
    "Transaktionen &= 5 \\\\\n",
    "support &\\geq 60\\%\\ (muss\\ in\\ 3\\ aus\\ 5\\ Transaktionen\\ vorkommen) \\\\\n",
    "confidence &\\geq 80\\% \\\\\n",
    "\\\\\n",
    "C_1 = U &= \\\\\n",
    "&M | 3\\\\\n",
    "&O\\\\\n",
    "&N\\\\\n",
    "&K\\\\\n",
    "&E\\\\\n",
    "&Y\\\\\n",
    "&D\\\\\n",
    "&A\\\\\n",
    "&U\\\\\n",
    "&C\\\\\n",
    "\\end{align}\n",
    "$$"
   ]
  }
 ],
 "metadata": {
  "anaconda-cloud": {},
  "kernelspec": {
   "display_name": "Python [default]",
   "language": "python",
   "name": "python3"
  },
  "language_info": {
   "codemirror_mode": {
    "name": "ipython",
    "version": 3
   },
   "file_extension": ".py",
   "mimetype": "text/x-python",
   "name": "python",
   "nbconvert_exporter": "python",
   "pygments_lexer": "ipython3",
   "version": "3.5.2"
  }
 },
 "nbformat": 4,
 "nbformat_minor": 2
}
