{
 "cells": [
  {
   "cell_type": "markdown",
   "metadata": {},
   "source": [
    "# Aufgabe 3\n",
    "$$\n",
    "\\begin{align}\n",
    "L_x(\\lambda|X) &= \\Pi_{j=1}^n f_\\lambda (x^{(j)}|\\lambda) \\\\\n",
    "Exponentialfunktion \\ für \\ x >= 0 \\\\\n",
    "f_\\lambda (x^{(j)}, \\lambda) &= \\lambda e^{-\\lambda x} \\\\\n",
    "L_x(\\lambda) &= \\lambda^n(e^{-\\lambda{\\sum_{j=1}^{n}x_j}})\\\\\n",
    "Loglikelihood: \\\\\n",
    "log(L_x(\\lambda)) &= log(\\lambda^n) - (\\lambda {\\sum_{j=1}^{n}x_j}) \\\\\n",
    "log(L_x(\\lambda)) &= n \\log(\\lambda) - (\\lambda {\\sum_{j=1}^{n}x_j}) \\\\\n",
    "Maximieren\\ der\\ Loglikelihood\\ Ableitung: \\\\\n",
    "{\\frac{d \\log(L_x(\\lambda)}{d\\ \\lambda}} &=0\\\\\n",
    "0&=n {\\frac{1}{\\lambda}}-{\\sum_{i=1}^n} x_j\\\\\n",
    "\\lambda &= {\\frac{n}{\\sum_{i=1}^n x_j}} \\\\\n",
    "\\lambda &= {\\frac{1}{\\overline{X_n}}}\n",
    "\\end{align}\n",
    "$$"
   ]
  }
 ],
 "metadata": {
  "anaconda-cloud": {},
  "kernelspec": {
   "display_name": "Python [default]",
   "language": "python",
   "name": "python3"
  },
  "language_info": {
   "codemirror_mode": {
    "name": "ipython",
    "version": 3
   },
   "file_extension": ".py",
   "mimetype": "text/x-python",
   "name": "python",
   "nbconvert_exporter": "python",
   "pygments_lexer": "ipython3",
   "version": "3.5.2"
  }
 },
 "nbformat": 4,
 "nbformat_minor": 1
}
