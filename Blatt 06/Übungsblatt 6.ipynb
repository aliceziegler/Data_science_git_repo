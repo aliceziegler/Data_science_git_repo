{
 "cells": [
  {
   "cell_type": "markdown",
   "metadata": {
    "collapsed": true
   },
   "source": [
    "# Übungsblatt 6 #\n",
    "\n",
    "### Alice Ziegler, Daniel Schneider ###"
   ]
  },
  {
   "cell_type": "markdown",
   "metadata": {},
   "source": [
    "## Aufgabe 6.1: Dichteschätzer ##"
   ]
  },
  {
   "cell_type": "markdown",
   "metadata": {},
   "source": [
    "#### Generieren der Log-normalverteilten Daten ####"
   ]
  },
  {
   "cell_type": "code",
   "execution_count": 1,
   "metadata": {
    "collapsed": false
   },
   "outputs": [],
   "source": [
    "import numpy as np\n",
    "import math\n",
    "import random\n",
    "import matplotlib.pyplot as plt\n",
    "import scipy.stats"
   ]
  },
  {
   "cell_type": "code",
   "execution_count": 2,
   "metadata": {
    "collapsed": true
   },
   "outputs": [],
   "source": [
    "mu = 0\n",
    "sigma = 1\n",
    "N = 1000"
   ]
  },
  {
   "cell_type": "code",
   "execution_count": 3,
   "metadata": {
    "collapsed": false
   },
   "outputs": [],
   "source": [
    "rand = [None]*N\n",
    "for i in range(N):\n",
    "    rand[i] = random.lognormvariate(mu,sigma)"
   ]
  },
  {
   "cell_type": "code",
   "execution_count": 4,
   "metadata": {
    "collapsed": false
   },
   "outputs": [
    {
     "data": {
      "image/png": "[encoded data removed]",
      "text/plain": [
       "<matplotlib.figure.Figure at 0x12e01af67b8>"
      ]
     },
     "metadata": {},
     "output_type": "display_data"
    }
   ],
   "source": [
    "bins = math.ceil(math.log2(len(rand))) + 1\n",
    "plt.hist(rand,bins=bins,normed=True)\n",
    "plt.show()"
   ]
  },
  {
   "cell_type": "markdown",
   "metadata": {},
   "source": [
    " "
   ]
  },
  {
   "cell_type": "markdown",
   "metadata": {},
   "source": [
    "#### Funktionen zum Ermitteln des Fehlers ####"
   ]
  },
  {
   "cell_type": "code",
   "execution_count": 5,
   "metadata": {
    "collapsed": false
   },
   "outputs": [],
   "source": [
    "def logNorm(x,mu,sigma):\n",
    "    return (1 / (sigma*x*math.sqrt(2*math.pi)) * math.exp(-((math.log(x)-mu)**2 / 2*sigma**2)))"
   ]
  },
  {
   "cell_type": "code",
   "execution_count": 6,
   "metadata": {
    "collapsed": true
   },
   "outputs": [],
   "source": [
    "pOrig = [None]*N\n",
    "\n",
    "for i in range(N):\n",
    "    pOrig[i] = logNorm(rand[i], mu, sigma)"
   ]
  },
  {
   "cell_type": "code",
   "execution_count": 7,
   "metadata": {
    "collapsed": true
   },
   "outputs": [],
   "source": [
    "def squareError(tLearned,tOrig):\n",
    "    err = 0.5*np.sum(np.square(np.array(tLearned)-np.array(tOrig)))\n",
    "    return(err)"
   ]
  },
  {
   "cell_type": "markdown",
   "metadata": {},
   "source": [
    "### a) kNN-Dichteschätzer ###"
   ]
  },
  {
   "cell_type": "code",
   "execution_count": 8,
   "metadata": {
    "collapsed": false
   },
   "outputs": [],
   "source": [
    "def kNN(data,k,x):\n",
    "    \n",
    "    N = len(data)\n",
    "    \n",
    "    if k>=N:\n",
    "        k = N - 1\n",
    "    \n",
    "    dist = distances(x,data)\n",
    "    dist = sorted(dist)\n",
    "    #print(dist)\n",
    "    \n",
    "    V = 2*dist[k]\n",
    "    \n",
    "    p = k/(N*V)\n",
    "    return (p)"
   ]
  },
  {
   "cell_type": "code",
   "execution_count": 9,
   "metadata": {
    "collapsed": true
   },
   "outputs": [],
   "source": [
    "def distances(x,data):\n",
    "    N = len(data)\n",
    "    \n",
    "    dist = [None]*N\n",
    "    for i in range(N):\n",
    "        dist[i] = abs(x - data[i])\n",
    "    \n",
    "    return dist"
   ]
  },
  {
   "cell_type": "markdown",
   "metadata": {},
   "source": [
    "#### Fehler ####"
   ]
  },
  {
   "cell_type": "code",
   "execution_count": 10,
   "metadata": {
    "collapsed": false
   },
   "outputs": [],
   "source": [
    "ks = np.round(np.logspace(0.1,3.0,20))"
   ]
  },
  {
   "cell_type": "code",
   "execution_count": 11,
   "metadata": {
    "collapsed": false
   },
   "outputs": [
    {
     "name": "stdout",
     "output_type": "stream",
     "text": [
      "k: 1, Error: 219884.032955\n",
      "k: 2, Error: 682.764946095\n",
      "k: 3, Error: 269.05296084\n",
      "k: 4, Error: 75.1692818296\n",
      "k: 5, Error: 50.0151552347\n",
      "k: 7, Error: 23.8832293904\n",
      "k: 10, Error: 15.9093385089\n",
      "k: 15, Error: 12.0130920671\n",
      "k: 21, Error: 8.84224708246\n",
      "k: 30, Error: 5.97042701001\n",
      "k: 42, Error: 3.62808279457\n",
      "k: 60, Error: 2.49778389212\n",
      "k: 85, Error: 1.13680440142\n",
      "k: 121, Error: 0.538472113149\n",
      "k: 173, Error: 0.449757630264\n",
      "k: 245, Error: 0.887135608883\n",
      "k: 348, Error: 1.99864591988\n",
      "k: 495, Error: 7.3287532739\n",
      "k: 704, Error: 20.6555411955\n",
      "k: 1000, Error: 83.3534469416\n"
     ]
    }
   ],
   "source": [
    "#for k in range(10,1000,50):\n",
    "for k in ks:\n",
    "    k = int(k)\n",
    "    pKNN = [None]*N\n",
    "    for i in range(N):\n",
    "        pKNN[i] = kNN(rand,k,rand[i])\n",
    "    \n",
    "    print(\"k: \"+str(k)+\", Error: \"+str(squareError(pKNN,pOrig)))"
   ]
  },
  {
   "cell_type": "markdown",
   "metadata": {},
   "source": [
    "#### Plot ####"
   ]
  },
  {
   "cell_type": "code",
   "execution_count": 12,
   "metadata": {
    "collapsed": false
   },
   "outputs": [
    {
     "data": {
      "image/png": "[encoded data removed]",
      "text/plain": [
       "<matplotlib.figure.Figure at 0x12e023fa748>"
      ]
     },
     "metadata": {},
     "output_type": "display_data"
    },
    {
     "data": {
      "image/png": "[encoded data removed]",
      "text/plain": [
       "<matplotlib.figure.Figure at 0x12e0244a8d0>"
      ]
     },
     "metadata": {},
     "output_type": "display_data"
    },
    {
     "data": {
      "image/png": "[encoded data removed]",
      "text/plain": [
       "<matplotlib.figure.Figure at 0x12e024fb630>"
      ]
     },
     "metadata": {},
     "output_type": "display_data"
    }
   ],
   "source": [
    "ks=[10,100,800]\n",
    "\n",
    "for k in ks:\n",
    "    histV = plt.hist(rand,bins=30,normed=True)\n",
    "    \n",
    "    xs = np.arange(0.01, 10.0, 0.01)\n",
    "    ys1 = [None]*xs.shape[0]\n",
    "    ys2 = [None]*xs.shape[0]\n",
    "    for i in range (xs.shape[0]):\n",
    "        ys1[i] = logNorm(xs[i],mu,sigma)\n",
    "        ys2[i] = kNN(rand,k,xs[i])\n",
    "\n",
    "    logNormV = plt.plot(xs,ys1)\n",
    "    kNNV = plt.plot(xs,ys2)\n",
    "\n",
    "    plt.axis([0,10,0,1])\n",
    "    \n",
    "    plt.show()"
   ]
  },
  {
   "cell_type": "markdown",
   "metadata": {},
   "source": [
    " "
   ]
  },
  {
   "cell_type": "markdown",
   "metadata": {},
   "source": [
    "### b) Kerndichteschätzer ###"
   ]
  },
  {
   "cell_type": "code",
   "execution_count": 13,
   "metadata": {
    "collapsed": false
   },
   "outputs": [],
   "source": [
    "def kernel(data,h,x):\n",
    "    N = len(data)\n",
    "    V = h\n",
    "    \n",
    "    k=0\n",
    "    for i in range(N):\n",
    "        k += K((x-data[i])/h)\n",
    "    \n",
    "    p = k/(N*V)\n",
    "    return (p)"
   ]
  },
  {
   "cell_type": "code",
   "execution_count": 14,
   "metadata": {
    "collapsed": true
   },
   "outputs": [],
   "source": [
    "def K(u):\n",
    "    return (1 if abs(u) <= 0.5 else 0)"
   ]
  },
  {
   "cell_type": "markdown",
   "metadata": {},
   "source": [
    "#### Fehler ####"
   ]
  },
  {
   "cell_type": "code",
   "execution_count": 15,
   "metadata": {
    "collapsed": true
   },
   "outputs": [],
   "source": [
    "hs = np.logspace(-1,1.0,20)"
   ]
  },
  {
   "cell_type": "code",
   "execution_count": 16,
   "metadata": {
    "collapsed": false
   },
   "outputs": [
    {
     "name": "stdout",
     "output_type": "stream",
     "text": [
      "h: 0.1, Error: 2.1976275356\n",
      "h: 0.12742749857, Error: 1.32124136656\n",
      "h: 0.162377673919, Error: 0.838372210132\n",
      "h: 0.206913808111, Error: 0.513198976636\n",
      "h: 0.263665089873, Error: 0.366598734991\n",
      "h: 0.335981828628, Error: 0.371450187998\n",
      "h: 0.428133239872, Error: 0.571249894079\n",
      "h: 0.545559478117, Error: 0.98344007433\n",
      "h: 0.695192796178, Error: 1.75772564371\n",
      "h: 0.88586679041, Error: 3.47574368855\n",
      "h: 1.12883789168, Error: 6.10799498495\n",
      "h: 1.43844988829, Error: 9.62818018217\n",
      "h: 1.83298071083, Error: 13.9748245206\n",
      "h: 2.33572146909, Error: 19.2671133161\n",
      "h: 2.97635144163, Error: 25.3897392566\n",
      "h: 3.79269019073, Error: 32.3681450968\n",
      "h: 4.83293023857, Error: 39.6784230117\n",
      "h: 6.15848211066, Error: 46.5637024028\n",
      "h: 7.84759970351, Error: 53.0135976098\n",
      "h: 10.0, Error: 59.0130651253\n"
     ]
    }
   ],
   "source": [
    "#for h in np.arange(0.1,5.,0.5):\n",
    "for h in hs:\n",
    "    pKernel = [None]*N\n",
    "    for i in range(N):\n",
    "        pKernel[i] = kernel(rand,h,rand[i])\n",
    "        \n",
    "    print(\"h: \"+str(h)+\", Error: \"+str(squareError(pKernel,pOrig)))"
   ]
  },
  {
   "cell_type": "markdown",
   "metadata": {},
   "source": [
    "#### Plot ####"
   ]
  },
  {
   "cell_type": "code",
   "execution_count": 17,
   "metadata": {
    "collapsed": false
   },
   "outputs": [
    {
     "data": {
      "image/png": "[encoded data removed]",
      "text/plain": [
       "<matplotlib.figure.Figure at 0x12e0365b898>"
      ]
     },
     "metadata": {},
     "output_type": "display_data"
    },
    {
     "data": {
      "image/png": "[encoded data removed]",
      "text/plain": [
       "<matplotlib.figure.Figure at 0x12e03716ef0>"
      ]
     },
     "metadata": {},
     "output_type": "display_data"
    },
    {
     "data": {
      "image/png": "[encoded data removed]",
      "text/plain": [
       "<matplotlib.figure.Figure at 0x12e01aa1198>"
      ]
     },
     "metadata": {},
     "output_type": "display_data"
    }
   ],
   "source": [
    "hs=[0.2,0.5,5]\n",
    "\n",
    "for h in hs:\n",
    "    hist = plt.hist(rand,bins=30,normed=True)\n",
    "    xs = np.arange(0.01, 10.0, 0.01)\n",
    "    ys1 = [None]*xs.shape[0]\n",
    "    ys2 = [None]*xs.shape[0]\n",
    "    for i in range (xs.shape[0]):\n",
    "        ys1[i] = logNorm(xs[i],mu,sigma)\n",
    "        ys2[i] = kernel(rand,h,xs[i])\n",
    "    logNormV = plt.plot(xs,ys1)\n",
    "    kernelV = plt.plot(xs,ys2)\n",
    "\n",
    "    plt.axis([0,10,0,1])\n",
    "    \n",
    "    plt.show()"
   ]
  },
  {
   "cell_type": "markdown",
   "metadata": {},
   "source": [
    " "
   ]
  },
  {
   "cell_type": "markdown",
   "metadata": {},
   "source": [
    "## Aufgabe 6.2: Naive Bayes ##"
   ]
  },
  {
   "cell_type": "code",
   "execution_count": 18,
   "metadata": {
    "collapsed": true
   },
   "outputs": [],
   "source": [
    "import pandas as pd"
   ]
  },
  {
   "cell_type": "code",
   "execution_count": 19,
   "metadata": {
    "collapsed": false
   },
   "outputs": [],
   "source": [
    "data = pd.read_csv(\"crx.data\",header=None,na_values=[\"?\"])"
   ]
  },
  {
   "cell_type": "code",
   "execution_count": 20,
   "metadata": {
    "collapsed": true
   },
   "outputs": [],
   "source": [
    "data.dropna(inplace=True)"
   ]
  },
  {
   "cell_type": "code",
   "execution_count": 21,
   "metadata": {
    "collapsed": false
   },
   "outputs": [],
   "source": [
    "catIndexes = [0,3,4,5,6,8,9,11,12,15]\n",
    "\n",
    "for i in catIndexes:\n",
    "    data[i] = data[i].astype(dtype=\"category\")"
   ]
  },
  {
   "cell_type": "code",
   "execution_count": 22,
   "metadata": {
    "collapsed": false
   },
   "outputs": [
    {
     "name": "stdout",
     "output_type": "stream",
     "text": [
      "<class 'pandas.core.frame.DataFrame'>\n",
      "Int64Index: 653 entries, 0 to 689\n",
      "Data columns (total 16 columns):\n",
      "0     653 non-null category\n",
      "1     653 non-null float64\n",
      "2     653 non-null float64\n",
      "3     653 non-null category\n",
      "4     653 non-null category\n",
      "5     653 non-null category\n",
      "6     653 non-null category\n",
      "7     653 non-null float64\n",
      "8     653 non-null category\n",
      "9     653 non-null category\n",
      "10    653 non-null int64\n",
      "11    653 non-null category\n",
      "12    653 non-null category\n",
      "13    653 non-null float64\n",
      "14    653 non-null int64\n",
      "15    653 non-null category\n",
      "dtypes: category(10), float64(4), int64(2)\n",
      "memory usage: 42.4 KB\n"
     ]
    }
   ],
   "source": [
    "data.info()"
   ]
  },
  {
   "cell_type": "code",
   "execution_count": 23,
   "metadata": {
    "collapsed": true
   },
   "outputs": [],
   "source": [
    "def metadata(data):\n",
    "    types = data.dtypes\n",
    "    columns = data.columns\n",
    "    \n",
    "    return types,columns"
   ]
  },
  {
   "cell_type": "code",
   "execution_count": 24,
   "metadata": {
    "collapsed": true
   },
   "outputs": [],
   "source": [
    "dtypes, colNames = metadata(data)"
   ]
  },
  {
   "cell_type": "code",
   "execution_count": 25,
   "metadata": {
    "collapsed": false
   },
   "outputs": [],
   "source": [
    "testing = data.sample(int(data.shape[0]/2),)\n",
    "training = data.drop(testing.index)"
   ]
  },
  {
   "cell_type": "code",
   "execution_count": 26,
   "metadata": {
    "collapsed": false
   },
   "outputs": [],
   "source": [
    "testing.reset_index(drop=True,inplace=True)\n",
    "training.reset_index(drop=True,inplace=True)"
   ]
  },
  {
   "cell_type": "code",
   "execution_count": 27,
   "metadata": {
    "collapsed": false
   },
   "outputs": [],
   "source": [
    "def groupByClasses(data,classAttribute):\n",
    "    cats = data[classAttribute].cat.categories\n",
    "    \n",
    "    dataClass = [None]*len(cats)\n",
    "    \n",
    "    for i in range(0,len(cats)):\n",
    "        dataClass[i] = data.loc[data[classAttribute] == cats[i]]\n",
    "    \n",
    "    return(dataClass)"
   ]
  },
  {
   "cell_type": "code",
   "execution_count": 28,
   "metadata": {
    "collapsed": false
   },
   "outputs": [],
   "source": [
    "testingClasses = groupByClasses(testing,15)"
   ]
  },
  {
   "cell_type": "code",
   "execution_count": 29,
   "metadata": {
    "collapsed": true
   },
   "outputs": [],
   "source": [
    "trainingClasses = groupByClasses(training,15)"
   ]
  },
  {
   "cell_type": "code",
   "execution_count": 30,
   "metadata": {
    "collapsed": false
   },
   "outputs": [],
   "source": [
    "def pClasses(dataClasses):\n",
    "    numOfValues = 0\n",
    "    for i in range(len(dataClasses)):\n",
    "        numOfValues += dataClasses[i].shape[0]\n",
    "    \n",
    "    ps = [None]*len(dataClasses)\n",
    "    for i in range(len(dataClasses)):\n",
    "        ps[i] = dataClasses[i].shape[0] / numOfValues\n",
    "    \n",
    "    return ps"
   ]
  },
  {
   "cell_type": "code",
   "execution_count": 31,
   "metadata": {
    "collapsed": true
   },
   "outputs": [],
   "source": [
    "def pXgivenClassNominal(column, x):\n",
    "    #cats = column.cat.categories\n",
    "    count = len(column)\n",
    "    countX = len(column[column == x])\n",
    "    \n",
    "    p = countX/count\n",
    "    return p"
   ]
  },
  {
   "cell_type": "code",
   "execution_count": 32,
   "metadata": {
    "collapsed": true
   },
   "outputs": [],
   "source": [
    "def pXgivenClassNumeric(column,x,h=10):\n",
    "    return (kernel(column, h, x))\n",
    "    #return kNN(column,k,x)"
   ]
  },
  {
   "cell_type": "code",
   "execution_count": 33,
   "metadata": {
    "collapsed": true
   },
   "outputs": [],
   "source": [
    "def pXrowGivenClasses(dataClasses,dtypes,kernelH,xRow):\n",
    "    \n",
    "    ps = [None]*len(dataClasses)\n",
    "    for i in range(len(dataClasses)):\n",
    "        dat = dataClasses[i]\n",
    "        \n",
    "        pXgivenC = 1\n",
    "        for j in range(dat.shape[1]):\n",
    "            if(dtypes[j].name == \"category\"):\n",
    "                p = pXgivenClassNominal(dat[j],xRow[j])\n",
    "                pXgivenC *= p\n",
    "            else:\n",
    "                p = pXgivenClassNumeric(dat[j],xRow[j],kernelH[j])\n",
    "                pXgivenC *= p\n",
    "        \n",
    "        ps[i] = pXgivenC\n",
    "        \n",
    "    return ps"
   ]
  },
  {
   "cell_type": "code",
   "execution_count": 34,
   "metadata": {
    "collapsed": true
   },
   "outputs": [],
   "source": [
    "def pClassGivenX(dataClasses,dtypes,kernelH,classID,xRow):\n",
    "    \n",
    "    pCs = pClasses(dataClasses)\n",
    "    pXgivenCs = pXrowGivenClasses(dataClasses,dtypes,kernelH,xRow)\n",
    "    \n",
    "    zaehler = pCs[classID] * pXgivenCs[classID]\n",
    "    nenner = 0\n",
    "    for k in range (len(dataClasses)):\n",
    "        nenner += pCs[k] * pXgivenCs[k]\n",
    "    \n",
    "    p = zaehler/nenner\n",
    "    \n",
    "    return p"
   ]
  },
  {
   "cell_type": "code",
   "execution_count": 35,
   "metadata": {
    "collapsed": false
   },
   "outputs": [],
   "source": [
    "def naiveBayes(training, testing, classAttribute):\n",
    "    \n",
    "    trainingClasses = groupByClasses(training,classAttribute)\n",
    "    \n",
    "    C = [None]*len(trainingClasses)\n",
    "    for k in range(len(trainingClasses)):\n",
    "        C[k] = trainingClasses[k].iloc[0,classAttribute]\n",
    "        trainingClasses[k] = trainingClasses[k].drop(classAttribute, axis=1)\n",
    "        trainingClasses[k].reset_index(drop=True,inplace=True)\n",
    "        \n",
    "    testingNoClass = testing.drop(classAttribute, axis=1)\n",
    "    \n",
    "    dtypes, colNames = metadata(training)\n",
    "    \n",
    "    #calculate h for Kernel\n",
    "    tmp = pd.concat([training,testing],axis=0,ignore_index=True)\n",
    "    h = [None] * tmp.shape[1]\n",
    "    for j in range(tmp.shape[1]):\n",
    "        if dtypes[j].name != 'category':\n",
    "            sorted = tmp[j].sort_values(ascending=False)\n",
    "\n",
    "            diff = sorted.diff(-1).sort_values(ascending=False)\n",
    "            diff.reset_index(drop=True, inplace=True)\n",
    "            h[j] = (diff[0] + diff[1])\n",
    "    #print(h)\n",
    "    \n",
    "    estimatedClass = [None]*testingNoClass.shape[0]\n",
    "    \n",
    "    for i in range(testingNoClass.shape[0]):\n",
    "        #print(str(testingNoClass.iloc[i].tolist()))\n",
    "        for k in range(len(trainingClasses)):\n",
    "            p = pClassGivenX(trainingClasses,dtypes,h,k,testingNoClass.iloc[i])\n",
    "            \n",
    "            #print(p)\n",
    "            if p > 0.5:\n",
    "                estimatedClass[i] = C[k]\n",
    "                \n",
    "        #print(\"=>\"+str(estimatedClass[i]))\n",
    "        #print(\"p(\"+str(C[1])+\" | \"+str(testingNoClass.iloc[i].tolist())+\")=\"+str(p))\n",
    "    return estimatedClass"
   ]
  },
  {
   "cell_type": "code",
   "execution_count": 36,
   "metadata": {
    "collapsed": false,
    "scrolled": false
   },
   "outputs": [],
   "source": [
    "calcClasses = naiveBayes(training, testing, 15)"
   ]
  },
  {
   "cell_type": "code",
   "execution_count": 37,
   "metadata": {
    "collapsed": false
   },
   "outputs": [],
   "source": [
    "def errors(orig, generated):\n",
    "    err = 0\n",
    "    for h in range(len(orig)):\n",
    "        if orig[h] != generated[h]:\n",
    "            err += 1\n",
    "            \n",
    "    return err"
   ]
  },
  {
   "cell_type": "code",
   "execution_count": 38,
   "metadata": {
    "collapsed": false
   },
   "outputs": [
    {
     "data": {
      "text/plain": [
       "64"
      ]
     },
     "execution_count": 38,
     "metadata": {},
     "output_type": "execute_result"
    }
   ],
   "source": [
    "errors(testing[15].tolist(),calcClasses)"
   ]
  },
  {
   "cell_type": "markdown",
   "metadata": {},
   "source": [
    " "
   ]
  },
  {
   "cell_type": "markdown",
   "metadata": {
    "collapsed": true
   },
   "source": [
    "## Aufgabe 6.3: Maximum-Likelihood ##"
   ]
  },
  {
   "cell_type": "markdown",
   "metadata": {},
   "source": [
    "$$\n",
    "\\begin{align}\n",
    "L_x(\\lambda|X) &= \\Pi_{j=1}^n f_\\lambda (x^{(j)}|\\lambda) \\\\\n",
    "Exponentialfunktion \\ für \\ x >= 0 \\\\\n",
    "f_\\lambda (x^{(j)}, \\lambda) &= \\lambda e^{-\\lambda x} \\\\\n",
    "L_x(\\lambda) &= \\lambda^n(e^{-\\lambda{\\sum_{j=1}^{n}x_j}})\\\\\n",
    "Loglikelihood: \\\\\n",
    "log(L_x(\\lambda)) &= log(\\lambda^n) - (\\lambda {\\sum_{j=1}^{n}x_j}) \\\\\n",
    "log(L_x(\\lambda)) &= n \\log(\\lambda) - (\\lambda {\\sum_{j=1}^{n}x_j}) \\\\\n",
    "Maximieren\\ der\\ Loglikelihood\\ Ableitung: \\\\\n",
    "{\\frac{d \\log(L_x(\\lambda)}{d\\ \\lambda}} &=0\\\\\n",
    "0&=n {\\frac{1}{\\lambda}}-{\\sum_{i=j}^n}x_j \\\\\n",
    "\\lambda &= {\\frac{n}{{\\sum_{i=j}^n}x_j}} \\\\\n",
    "\\lambda &= {\\frac{1}{\\overline{X_n}}}\n",
    "\\end{align}\n",
    "$$"
   ]
  },
  {
   "cell_type": "markdown",
   "metadata": {},
   "source": [
    " "
   ]
  }
 ],
 "metadata": {
  "anaconda-cloud": {},
  "kernelspec": {
   "display_name": "Python [default]",
   "language": "python",
   "name": "python3"
  },
  "language_info": {
   "codemirror_mode": {
    "name": "ipython",
    "version": 3
   },
   "file_extension": ".py",
   "mimetype": "text/x-python",
   "name": "python",
   "nbconvert_exporter": "python",
   "pygments_lexer": "ipython3",
   "version": "3.5.2"
  }
 },
 "nbformat": 4,
 "nbformat_minor": 1
}
