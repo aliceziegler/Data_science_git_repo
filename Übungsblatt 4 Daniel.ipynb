{
 "cells": [
  {
   "cell_type": "markdown",
   "metadata": {
    "collapsed": true
   },
   "source": [
    "# Übungsblatt 4 #\n",
    "\n",
    "### Alice Ziegler, Daniel Schneider ###"
   ]
  },
  {
   "cell_type": "markdown",
   "metadata": {},
   "source": [
    "## Aufgabe 4.1: Dimensionsreduktion ##"
   ]
  },
  {
   "cell_type": "markdown",
   "metadata": {},
   "source": [
    "#### Laden und Vorbereiten des `automobile`-Datensatzes ####"
   ]
  },
  {
   "cell_type": "code",
   "execution_count": 164,
   "metadata": {
    "collapsed": false
   },
   "outputs": [],
   "source": [
    "import pandas as pd\n",
    "import numpy as np\n",
    "import math"
   ]
  },
  {
   "cell_type": "code",
   "execution_count": 5,
   "metadata": {
    "collapsed": false
   },
   "outputs": [],
   "source": [
    "namesString = [\"symboling\", \"normalized-losses\", \"make\", \"fuel-type\", \"aspiration\", \"num-of-doors\", \"body-style\", \n",
    "               \"drive-wheels\", \"engine-location\", \"wheel-base\", \"length\", \"width\", \"height\", \"curb-weight\", \"engine-type\", \n",
    "               \"num-of-cylinders\", \"engine-size\", \"fuel-system\", \"bore\", \"stroke\", \"compression-ratio\", \"horsepower\", \n",
    "               \"peak-rpm\", \"city-mpg\", \"highway-mpg\", \"price\"]\n",
    "#data = pd.read_csv(\"https://archive.ics.uci.edu/ml/machine-learning-databases/autos/imports-85.data\",header=None,na_values=\"?\",names=namesString)\n",
    "data = pd.read_csv(\"imports-85.data\",header=None,na_values=\"?\",names=namesString)"
   ]
  },
  {
   "cell_type": "code",
   "execution_count": 6,
   "metadata": {
    "collapsed": true
   },
   "outputs": [],
   "source": [
    "data = data.dropna()"
   ]
  },
  {
   "cell_type": "code",
   "execution_count": 7,
   "metadata": {
    "collapsed": false
   },
   "outputs": [],
   "source": [
    "data.symboling = data.symboling.astype(dtype=\"category\")\n",
    "data.symboling.cat.set_categories([-3,-2,-1,0,1,2,3], inplace=True)\n",
    "data.symboling.cat.reorder_categories([-3,-2,-1,0,1,2,3], ordered=True, inplace=True)\n",
    "\n",
    "data['num-of-doors'] = data['num-of-doors'].astype(dtype=\"category\")\n",
    "data['num-of-doors'].cat.set_categories(['two', 'four'], inplace=True)\n",
    "data['num-of-doors'].cat.reorder_categories(['two', 'four'], ordered=True, inplace=True)\n",
    "\n",
    "data['num-of-cylinders'] = data['num-of-cylinders'].astype(dtype=\"category\")\n",
    "data['num-of-cylinders'].cat.set_categories(['eight', 'five', 'four', 'six', 'three', 'twelve', 'two'], inplace=True)\n",
    "data['num-of-cylinders'].cat.reorder_categories(['two', 'three', 'four', 'five', 'six', 'eight', 'twelve'], ordered=True, inplace=True)"
   ]
  },
  {
   "cell_type": "code",
   "execution_count": 8,
   "metadata": {
    "collapsed": true
   },
   "outputs": [],
   "source": [
    "data['make'] = data['make'].astype(\"category\")\n",
    "data['fuel-type'] = data['fuel-type'].astype(\"category\")\n",
    "data['aspiration'] = data['aspiration'].astype(\"category\")\n",
    "data['body-style'] = data['body-style'].astype(\"category\")\n",
    "data['drive-wheels'] = data['drive-wheels'].astype(\"category\")\n",
    "data['engine-location'] = data['engine-location'].astype(\"category\")\n",
    "data['engine-type'] = data['engine-type'].astype(\"category\")\n",
    "data['fuel-system'] = data['fuel-system'].astype(\"category\")"
   ]
  },
  {
   "cell_type": "code",
   "execution_count": 9,
   "metadata": {
    "collapsed": false,
    "scrolled": true
   },
   "outputs": [
    {
     "name": "stdout",
     "output_type": "stream",
     "text": [
      "<class 'pandas.core.frame.DataFrame'>\n",
      "Int64Index: 159 entries, 3 to 204\n",
      "Data columns (total 26 columns):\n",
      "symboling            159 non-null category\n",
      "normalized-losses    159 non-null float64\n",
      "make                 159 non-null category\n",
      "fuel-type            159 non-null category\n",
      "aspiration           159 non-null category\n",
      "num-of-doors         159 non-null category\n",
      "body-style           159 non-null category\n",
      "drive-wheels         159 non-null category\n",
      "engine-location      159 non-null category\n",
      "wheel-base           159 non-null float64\n",
      "length               159 non-null float64\n",
      "width                159 non-null float64\n",
      "height               159 non-null float64\n",
      "curb-weight          159 non-null int64\n",
      "engine-type          159 non-null category\n",
      "num-of-cylinders     159 non-null category\n",
      "engine-size          159 non-null int64\n",
      "fuel-system          159 non-null category\n",
      "bore                 159 non-null float64\n",
      "stroke               159 non-null float64\n",
      "compression-ratio    159 non-null float64\n",
      "horsepower           159 non-null float64\n",
      "peak-rpm             159 non-null float64\n",
      "city-mpg             159 non-null int64\n",
      "highway-mpg          159 non-null int64\n",
      "price                159 non-null float64\n",
      "dtypes: category(11), float64(11), int64(4)\n",
      "memory usage: 22.0 KB\n"
     ]
    }
   ],
   "source": [
    "data.info()"
   ]
  },
  {
   "cell_type": "markdown",
   "metadata": {},
   "source": [
    "### a) Distanzmatrix ###"
   ]
  },
  {
   "cell_type": "code",
   "execution_count": 235,
   "metadata": {
    "collapsed": false
   },
   "outputs": [],
   "source": [
    "def dist(x,y,mins,maxs):\n",
    "    types = x.dtypes\n",
    "    attribs = x.columns\n",
    "    \n",
    "    dist = 0\n",
    "    \n",
    "    for f in range(0, x.shape[1]):\n",
    "        \n",
    "        if types[f].name == \"category\":\n",
    "            if x[attribs[f]].cat.ordered:\n",
    "                #print (str(types[f])+\": Ordinal\")\n",
    "                dist += distOrdinal(x[attribs[f]],y[attribs[f]])\n",
    "            else:\n",
    "                #print(str(types[f])+\": Nominal\")\n",
    "                dist += distNominal(x[attribs[f]],y[attribs[f]])\n",
    "        else:\n",
    "            #print (str(types[f])+\": Numerisch\")\n",
    "            dist += distNumeric(x[attribs[f]],y[attribs[f]],mins[f], maxs[f])\n",
    "    \n",
    "    return dist"
   ]
  },
  {
   "cell_type": "code",
   "execution_count": 199,
   "metadata": {
    "collapsed": false
   },
   "outputs": [],
   "source": [
    "def distOrdinal(x,y):\n",
    "    rankCount = len(x.cat.categories)\n",
    "    \n",
    "    rankX = (int(x.cat.codes))/(rankCount - 1)\n",
    "    rankY = (int(y.cat.codes))/(rankCount - 1)    \n",
    "    dist = abs(rankX - rankY)\n",
    "    \n",
    "    #print(dist)\n",
    "    return dist"
   ]
  },
  {
   "cell_type": "code",
   "execution_count": 200,
   "metadata": {
    "collapsed": true
   },
   "outputs": [],
   "source": [
    "def distNominal(x,y):\n",
    "    dist = abs(int(x.cat.codes) - int(y.cat.codes))\n",
    "    \n",
    "    #print (dist)\n",
    "    return dist"
   ]
  },
  {
   "cell_type": "code",
   "execution_count": 201,
   "metadata": {
    "collapsed": true
   },
   "outputs": [],
   "source": [
    "def distNumeric(x,y,minim,maxim):\n",
    "    dist = abs(float(x) - float(y))/(maxim - minim)\n",
    "    \n",
    "    #print(dist)\n",
    "    return dist"
   ]
  },
  {
   "cell_type": "code",
   "execution_count": 237,
   "metadata": {
    "collapsed": false
   },
   "outputs": [],
   "source": [
    "def distMatrix(dataFrame):\n",
    "    size = dataFrame.shape[0]\n",
    "    \n",
    "    attribs = dataFrame.columns\n",
    "    types = dataFrame.dtypes\n",
    "    mins = []\n",
    "    maxs = []\n",
    "    for f in range(0,dataFrame.shape[1]):\n",
    "        if types[f].name != \"category\":\n",
    "            mins.append(dataFrame[attribs[f]].min())\n",
    "            maxs.append(dataFrame[attribs[f]].max())\n",
    "        else:\n",
    "            mins.append(0)\n",
    "            maxs.append(0)\n",
    "    \n",
    "    \n",
    "    array = np.empty([size, size])\n",
    "        \n",
    "    for i in range(0,size):        \n",
    "        for j in range(0,size):\n",
    "            if j < i:\n",
    "                array[i,j] = array[j,i]\n",
    "            else:\n",
    "                array[i,j] = (dist(dataFrame.iloc[[i]],dataFrame.iloc[[j]],mins,maxs))\n",
    "        \n",
    "    print(array)"
   ]
  },
  {
   "cell_type": "code",
   "execution_count": 240,
   "metadata": {
    "collapsed": false
   },
   "outputs": [
    {
     "name": "stdout",
     "output_type": "stream",
     "text": [
      "[[  0.           2.250093     2.31582995 ...,  24.09166476  26.26981775\n",
      "   22.44341232]\n",
      " [  2.250093     0.           2.44710283 ...,  24.02471352  27.04645097\n",
      "   22.98038695]\n",
      " [  2.31582995   2.44710283   0.         ...,  22.4172221   25.20323544\n",
      "   21.189803  ]\n",
      " ..., \n",
      " [ 24.09166476  24.02471352  22.4172221  ...,   0.           8.61790617\n",
      "    4.13054653]\n",
      " [ 26.26981775  27.04645097  25.20323544 ...,   8.61790617   0.\n",
      "    5.49070446]\n",
      " [ 22.44341232  22.98038695  21.189803   ...,   4.13054653   5.49070446\n",
      "    0.        ]]\n"
     ]
    }
   ],
   "source": [
    "distMatrix(data)"
   ]
  },
  {
   "cell_type": "markdown",
   "metadata": {},
   "source": [
    "### b) MDS ###"
   ]
  },
  {
   "cell_type": "code",
   "execution_count": 315,
   "metadata": {
    "collapsed": true
   },
   "outputs": [],
   "source": [
    "import scipy.spatial.distance as scp\n",
    "import matplotlib.pyplot as plt"
   ]
  },
  {
   "cell_type": "code",
   "execution_count": 388,
   "metadata": {
    "collapsed": true
   },
   "outputs": [],
   "source": [
    "data2 = data[['horsepower','peak-rpm','city-mpg','highway-mpg','price']]"
   ]
  },
  {
   "cell_type": "code",
   "execution_count": 389,
   "metadata": {
    "collapsed": false
   },
   "outputs": [],
   "source": [
    "D = scp.squareform(scp.pdist(data2))"
   ]
  },
  {
   "cell_type": "code",
   "execution_count": 390,
   "metadata": {
    "collapsed": true
   },
   "outputs": [],
   "source": [
    "A = np.multiply(np.square(D),-0.5)"
   ]
  },
  {
   "cell_type": "code",
   "execution_count": 391,
   "metadata": {
    "collapsed": false
   },
   "outputs": [],
   "source": [
    "ai_ = np.mean(A,axis=0)\n",
    "a_j = np.mean(A,axis=1)\n",
    "a__ = np.mean(A)\n",
    "\n",
    "ai_ = ai_[np.newaxis, :]\n",
    "a_j = a_j[:, np.newaxis]"
   ]
  },
  {
   "cell_type": "code",
   "execution_count": 392,
   "metadata": {
    "collapsed": false
   },
   "outputs": [],
   "source": [
    "B = A - ai_ - a_j + a__"
   ]
  },
  {
   "cell_type": "code",
   "execution_count": 403,
   "metadata": {
    "collapsed": false,
    "scrolled": false
   },
   "outputs": [
    {
     "data": {
      "text/plain": [
       "array([[  6.42054139e+06,   1.51855998e+07,   1.58366706e+07, ...,\n",
       "          2.52904461e+07,   2.74866369e+07,   2.81065681e+07],\n",
       "       [  1.51855998e+07,   3.62009273e+07,   3.77619030e+07, ...,\n",
       "          6.04285125e+07,   6.60717594e+07,   6.72343525e+07],\n",
       "       [  1.58366706e+07,   3.77619030e+07,   3.93905138e+07, ...,\n",
       "          6.30384963e+07,   6.89380031e+07,   7.01408433e+07],\n",
       "       ..., \n",
       "       [  2.52904461e+07,   6.04285125e+07,   6.30384963e+07, ...,\n",
       "          1.00937685e+08,   1.10554879e+08,   1.12343047e+08],\n",
       "       [  2.74866369e+07,   6.60717594e+07,   6.89380031e+07, ...,\n",
       "          1.10554879e+08,   1.21633161e+08,   1.23153717e+08],\n",
       "       [  2.81065681e+07,   6.72343525e+07,   7.01408433e+07, ...,\n",
       "          1.12343047e+08,   1.23153717e+08,   1.25058414e+08]])"
      ]
     },
     "execution_count": 403,
     "metadata": {},
     "output_type": "execute_result"
    }
   ],
   "source": [
    "B"
   ]
  },
  {
   "cell_type": "code",
   "execution_count": 412,
   "metadata": {
    "collapsed": false
   },
   "outputs": [],
   "source": [
    "eigenwerte, eigenvektoren = np.linalg.eig(B)"
   ]
  },
  {
   "cell_type": "code",
   "execution_count": 413,
   "metadata": {
    "collapsed": false
   },
   "outputs": [],
   "source": [
    "eigenvektoren = np.real(eigenvektoren)\n",
    "eigenwerte = np.real(eigenwerte)"
   ]
  },
  {
   "cell_type": "code",
   "execution_count": 415,
   "metadata": {
    "collapsed": false,
    "scrolled": true
   },
   "outputs": [
    {
     "data": {
      "text/plain": [
       "array([[  3.38166899e-02,  -7.28849946e-02,  -3.94947943e-02, ...,\n",
       "         -3.55658204e-02,   4.62952890e-02,  -4.67584840e-02],\n",
       "       [  8.11797336e-02,  -8.12020868e-02,  -4.07019521e-02, ...,\n",
       "         -8.53846217e-04,   2.85667777e-03,  -2.87511315e-03],\n",
       "       [  8.46977581e-02,  -8.18034681e-02,  -6.78407865e-02, ...,\n",
       "         -1.07605148e-02,   2.46516760e-02,  -2.47770317e-02],\n",
       "       ..., \n",
       "       [  1.35782596e-01,  -9.07934506e-02,  -3.61998045e-02, ...,\n",
       "         -6.59767799e-03,   1.26504629e-02,  -1.33136389e-02],\n",
       "       [  1.49239873e-01,   2.82983370e-02,  -1.32518836e-01, ...,\n",
       "          4.17845002e-03,  -9.75717500e-05,  -1.07238448e-03],\n",
       "       [  1.51226582e-01,  -7.61050516e-02,  -1.32894256e-01, ...,\n",
       "          1.49604757e-02,  -7.75237018e-03,   8.71318191e-03]])"
      ]
     },
     "execution_count": 415,
     "metadata": {},
     "output_type": "execute_result"
    }
   ],
   "source": [
    "eigenvektoren"
   ]
  },
  {
   "cell_type": "code",
   "execution_count": 450,
   "metadata": {
    "collapsed": false
   },
   "outputs": [],
   "source": [
    "sorting = eigenwerte.argsort()[::-1]   \n",
    "eigenwerte_s = eigenwerte[sorting]\n",
    "eigenvektoren_s = eigenvektoren[:,sorting]\n",
    "\n",
    "dataNeu = eigenvektoren_s[:,:2]\n",
    "dataNeu[:,0] = np.multiply(dataNeu[:,0],math.sqrt(eigenwerte_s[0]))\n",
    "dataNeu[:,1] = np.multiply(dataNeu[:,1],math.sqrt(eigenwerte_s[1]))"
   ]
  },
  {
   "cell_type": "code",
   "execution_count": 451,
   "metadata": {
    "collapsed": false,
    "scrolled": true
   },
   "outputs": [
    {
     "data": {
      "text/plain": [
       "array([[  2.49874998e+03,  -4.20352538e+02],\n",
       "       [  5.99845397e+03,  -4.68320036e+02],\n",
       "       [  6.25840442e+03,  -4.71788406e+02],\n",
       "       [  1.24228979e+04,  -5.56338615e+02],\n",
       "       [  4.97438242e+03,  -7.54121110e+02],\n",
       "       [  5.46933176e+03,  -7.60874834e+02],\n",
       "       [  9.53524081e+03,   7.33344771e+02],\n",
       "       [  9.67022699e+03,   7.31502846e+02],\n",
       "       [ -6.29411677e+03,   1.00482483e+02],\n",
       "       [ -5.15424342e+03,  -2.15418564e+02],\n",
       "       [ -4.87427208e+03,  -2.19238853e+02],\n",
       "       [ -5.87854547e+03,  -3.05513267e+02],\n",
       "       [ -5.07362119e+03,  -3.16517351e+02],\n",
       "       [ -3.49363659e+03,  -3.38584714e+02],\n",
       "       [ -5.22160604e+03,  -3.14498055e+02],\n",
       "       [ -4.75865343e+03,  -3.20815176e+02],\n",
       "       [ -3.84174729e+03,  -3.33326622e+02],\n",
       "       [ -2.52293875e+03,   1.48360333e+02],\n",
       "       [  1.51988203e+03,   9.23754636e+01],\n",
       "       [ -4.96210398e+03,   3.82171548e+02],\n",
       "       [ -4.60249045e+03,  -8.23052943e+02],\n",
       "       [ -6.05156103e+03,  -3.03036366e+02],\n",
       "       [ -4.92845320e+03,  -8.18616376e+02],\n",
       "       [ -4.32851461e+03,  -8.26802709e+02],\n",
       "       [ -4.16253160e+03,  -8.29067595e+02],\n",
       "       [ -4.16253160e+03,  -8.29067595e+02],\n",
       "       [ -3.55980954e+03,  -6.37442326e+02],\n",
       "       [ -2.35993237e+03,  -6.53814992e+02],\n",
       "       [ -2.60990678e+03,  -6.50404020e+02],\n",
       "       [ -1.16005520e+03,  -6.70187659e+02],\n",
       "       [  1.48973921e+03,  -7.06572077e+02],\n",
       "       [ -1.10589047e+03,  -3.71133754e+02],\n",
       "       [  2.08074639e+04,   7.87360830e+01],\n",
       "       [ -6.24864186e+03,   1.99493519e+02],\n",
       "       [ -5.34874024e+03,   1.87232116e+02],\n",
       "       [ -4.64881189e+03,   1.77681394e+02],\n",
       "       [ -4.74880165e+03,   1.79045783e+02],\n",
       "       [ -4.04887330e+03,   1.69495061e+02],\n",
       "       [ -2.59620903e+03,   3.49423156e+02],\n",
       "       [ -2.94617321e+03,   3.54198517e+02],\n",
       "       [ -8.46388159e+02,   3.25546351e+02],\n",
       "       [ -1.19635233e+03,   3.30321712e+02],\n",
       "       [ -1.96454692e+02,   3.16677824e+02],\n",
       "       [  6.83523628e+03,   2.02010681e+01],\n",
       "       [  1.41154110e+04,   5.70815693e+02],\n",
       "       [  1.68111350e+04,   5.34031770e+02],\n",
       "       [  1.67391424e+04,   5.35014130e+02],\n",
       "       [  2.01627919e+04,   4.88297456e+02],\n",
       "       [  2.36130934e+04,   4.07452111e+01],\n",
       "       [ -6.06152674e+03,  -3.03016435e+02],\n",
       "       [ -5.26160195e+03,  -3.13952300e+02],\n",
       "       [ -4.78165108e+03,  -3.20501366e+02],\n",
       "       [ -3.76160916e+03,  -3.34928152e+02],\n",
       "       [ -1.49178522e+03,  -3.66097977e+02],\n",
       "       [ -2.94489786e+03,   1.54124891e+02],\n",
       "       [ -4.45474330e+03,   1.74727162e+02],\n",
       "       [ -3.25486613e+03,   1.58354496e+02],\n",
       "       [ -2.17171561e+03,  -3.56820133e+02],\n",
       "       [ -2.17171561e+03,  -3.56820133e+02],\n",
       "       [ -5.94741531e+03,  -4.61312513e+00],\n",
       "       [ -4.34217332e+03,   3.73735968e+02],\n",
       "       [ -4.79753302e+03,  -2.03035968e+01],\n",
       "       [ -4.59755349e+03,  -2.30323745e+01],\n",
       "       [ -4.09760467e+03,  -2.98543187e+01],\n",
       "       [ -4.14759955e+03,  -2.91721243e+01],\n",
       "       [ -3.64765073e+03,  -3.59940685e+01],\n",
       "       [ -3.94762002e+03,  -3.19009020e+01],\n",
       "       [ -3.44767120e+03,  -3.87228462e+01],\n",
       "       [ -3.19769679e+03,  -4.21338183e+01],\n",
       "       [ -2.49765204e+03,  -5.20923587e+01],\n",
       "       [ -1.89771346e+03,  -6.02786918e+01],\n",
       "       [  2.05211724e+03,  -1.14991875e+02],\n",
       "       [  2.95202511e+03,  -1.27271375e+02],\n",
       "       [  2.05211343e+03,  -1.14980453e+02],\n",
       "       [  5.75176646e+03,  -1.65574764e+02],\n",
       "       [  8.25167238e+03,  -2.00253270e+02],\n",
       "       [  6.95164363e+03,  -1.81947430e+02],\n",
       "       [  4.55800389e+02,   1.07564099e+02],\n",
       "       [  1.76729435e+03,   9.39729503e+02],\n",
       "       [  4.13541577e+03,   5.73825705e+01],\n",
       "       [  5.46691563e+03,   8.89247116e+02],\n",
       "       [  5.18531624e+03,   4.30285069e+01],\n",
       "       [  6.51680816e+03,   8.74921033e+02],\n",
       "       [  6.69711751e+03,  -5.78224372e+02],\n",
       "       [ -5.87854547e+03,  -3.05513267e+02],\n",
       "       [ -3.49363659e+03,  -3.38584714e+02],\n",
       "       [ -5.22160604e+03,  -3.14498055e+02],\n",
       "       [ -4.75865343e+03,  -3.20815176e+02],\n",
       "       [ -3.84174729e+03,  -3.33326622e+02],\n",
       "       [ -2.52293875e+03,   1.48360333e+02],\n",
       "       [  1.05660929e+04,  -5.31023456e+02],\n",
       "       [  4.02426469e+02,  -1.41872853e+02],\n",
       "       [  7.22393715e+02,  -1.46238897e+02],\n",
       "       [  3.59209995e+03,  -1.85396857e+02],\n",
       "       [  4.06205184e+03,  -1.91809484e+02],\n",
       "       [  6.69855708e+03,  -4.78488984e+02],\n",
       "       [  7.16850897e+03,  -4.84901611e+02],\n",
       "       [ -6.32426427e+03,   3.00524079e+02],\n",
       "       [ -4.38258682e+03,   7.73946158e+02],\n",
       "       [ -3.83264311e+03,   7.66442020e+02],\n",
       "       [ -4.31504928e+03,   3.72930239e+02],\n",
       "       [ -3.66062801e+03,   7.63978527e+02],\n",
       "       [ -1.48676514e+03,  -6.58511957e+01],\n",
       "       [ -2.20824972e+03,   3.44136878e+02],\n",
       "       [ -1.82345134e+02,   3.16097647e+02],\n",
       "       [ -3.97807695e+03,   3.68311656e+02],\n",
       "       [ -1.24878799e+03,  -6.91030261e+01],\n",
       "       [ -3.42812729e+03,   3.60789097e+02],\n",
       "       [  2.52615805e+02,   3.10146711e+02],\n",
       "       [ -6.09295042e+03,   3.97480383e+02],\n",
       "       [ -5.10304809e+03,   3.83961349e+02],\n",
       "       [ -4.95306345e+03,   3.81914766e+02],\n",
       "       [ -4.52310667e+03,   3.76045642e+02],\n",
       "       [ -3.54320015e+03,   3.62654040e+02],\n",
       "       [ -2.66329023e+03,   3.50647418e+02],\n",
       "       [ -4.50307624e+03,   3.75658508e+02],\n",
       "       [ -4.24310285e+03,   3.72111097e+02],\n",
       "       [ -3.53912091e+03,   6.62704455e+02],\n",
       "       [ -3.64912122e+03,   6.64239386e+02],\n",
       "       [ -3.70317178e+03,   3.64784581e+02],\n",
       "       [ -3.08321778e+03,   3.56272765e+02],\n",
       "       [ -2.18330990e+03,   3.43993265e+02],\n",
       "       [ -3.38318779e+03,   3.60368264e+02],\n",
       "       [ -3.20320621e+03,   3.57912364e+02],\n",
       "       [ -2.16780939e+03,  -1.45680282e+03],\n",
       "       [ -1.92783396e+03,  -1.46007735e+03],\n",
       "       [ -2.99203845e+03,   3.54369274e+02],\n",
       "       [ -1.80216026e+03,   3.38133046e+02],\n",
       "       [ -1.45219608e+03,   3.33357685e+02],\n",
       "       [ -2.42319935e+02,   3.16848581e+02],\n",
       "       [  1.07644240e+02,   3.12073220e+02],\n",
       "       [  6.22701781e+03,   2.28572622e+02],\n",
       "       [ -2.48496905e+03,   9.47799684e+02],\n",
       "       [ -7.39334779e+02,   6.24247643e+02],\n",
       "       [ -1.44507248e+03,   9.33600870e+02],\n",
       "       [ -5.35165629e+02,   9.21184931e+02],\n",
       "       [ -1.85201454e+02,   9.16409570e+02],\n",
       "       [  5.11083612e+03,  -1.56842941e+02],\n",
       "       [  4.55089415e+03,  -1.49204696e+02],\n",
       "       [  4.24290511e+03,  -1.44930093e+02],\n",
       "       [ -3.66624551e+03,   3.64526999e+02],\n",
       "       [ -3.47228519e+03,  -8.86255158e+01],\n",
       "       [ -3.44626803e+03,   3.61525344e+02],\n",
       "       [ -3.25230771e+03,  -9.16271713e+01],\n",
       "       [ -2.95233842e+03,  -9.57203378e+01],\n",
       "       [ -1.94224364e+03,   6.40767791e+02],\n",
       "       [ -1.45585615e+03,  -3.66353808e+02],\n",
       "       [ -1.47089050e+03,  -3.66020668e+02],\n",
       "       [  1.49027372e+03,  -3.06766554e+02],\n",
       "       [  1.96522510e+03,  -3.13247401e+02],\n",
       "       [  4.53496132e+03,  -3.48309861e+02],\n",
       "       [  5.06490707e+03,  -3.55541122e+02],\n",
       "       [  6.97402365e+03,  -8.22929760e+01],\n",
       "       [  7.50396940e+03,  -8.95242369e+01],\n",
       "       [  5.39487401e+03,  -3.60045938e+02],\n",
       "       [  7.59620709e+03,  -2.90741760e+02],\n",
       "       [  1.00331156e+04,  -5.23636691e+02],\n",
       "       [  1.10274876e+04,   1.63206128e+02],\n",
       "       [  1.11742876e+04,  -4.38923701e+02]])"
      ]
     },
     "execution_count": 451,
     "metadata": {},
     "output_type": "execute_result"
    }
   ],
   "source": [
    "dataNeu"
   ]
  },
  {
   "cell_type": "code",
   "execution_count": 452,
   "metadata": {
    "collapsed": false,
    "scrolled": false
   },
   "outputs": [
    {
     "data": {
      "image/png": "[encoded data removed]",
      "text/plain": [
       "<matplotlib.figure.Figure at 0x1e682a47d68>"
      ]
     },
     "metadata": {},
     "output_type": "display_data"
    }
   ],
   "source": [
    "plt.scatter(dataNeu[:,0],dataNeu[:,1])\n",
    "plt.show()"
   ]
  },
  {
   "cell_type": "markdown",
   "metadata": {},
   "source": [
    "### c) Stress ###"
   ]
  },
  {
   "cell_type": "code",
   "execution_count": 453,
   "metadata": {
    "collapsed": true
   },
   "outputs": [],
   "source": [
    "D2 = scp.squareform(scp.pdist(dataNeu))"
   ]
  },
  {
   "cell_type": "code",
   "execution_count": 454,
   "metadata": {
    "collapsed": false
   },
   "outputs": [],
   "source": [
    "def stress(D1,D2):\n",
    "    zaehlersumme = 0\n",
    "    nennersumme = 0\n",
    "    for i in range(0,D1.shape[0]):\n",
    "        for j in range(i+1,D1.shape[0]):\n",
    "            zaehlersumme += (D1[i,j] - D2[i,j])**2\n",
    "            nennersumme += D1[i,j]**2\n",
    "    \n",
    "    return zaehlersumme / nennersumme"
   ]
  },
  {
   "cell_type": "code",
   "execution_count": 455,
   "metadata": {
    "collapsed": false
   },
   "outputs": [
    {
     "data": {
      "text/plain": [
       "3.979343482827991e-09"
      ]
     },
     "execution_count": 455,
     "metadata": {},
     "output_type": "execute_result"
    }
   ],
   "source": [
    "stress(D,D2)"
   ]
  },
  {
   "cell_type": "markdown",
   "metadata": {},
   "source": [
    "Der Stress beträgt: `~ 3.979e-09` ist also recht klein."
   ]
  },
  {
   "cell_type": "markdown",
   "metadata": {},
   "source": [
    " "
   ]
  },
  {
   "cell_type": "markdown",
   "metadata": {},
   "source": [
    "## Aufgabe 4.2: Distanzmaße ##"
   ]
  },
  {
   "cell_type": "markdown",
   "metadata": {},
   "source": [
    "### a) Beweis: Gemischte Distanzfunktion ist eine Metrik ###"
   ]
  },
  {
   "cell_type": "markdown",
   "metadata": {},
   "source": [
    "Sei $p$ die Anzahl der Attribute unterschiedlichen Typs.\n",
    " \n",
    "Zu zeigen: Die Funktion $ d: X \\times X \\to \\mathbb {R} $ mit\n",
    "\n",
    "$$\n",
    "d(x_i,x_j) = \\frac{\\sum_{f=1}^p \\delta_{ij}^{(f)} d_{ij}^{(f)}} {\\sum_{f=1}^p \\delta_{ij}^{(f)}}\n",
    "$$\n",
    "\n",
    "ist eine Metrik, wenn $d_{ij}^{(f)}$ metrisch ist.\n",
    "\n",
    "\n",
    "\n",
    "Es müssen dafür die folgenden 3 Axiome gelten:\n",
    "\n",
    "1. Positive Definitheit: \n",
    "$d (x_i, x_j) \\geq 0$ und $d (x_i, x_j) = 0 \\Leftrightarrow x_i = x_j$\n",
    "\n",
    "2. Symmetrie: \n",
    "$d (x_i, x_j) = d (x_j, x_i)$\n",
    "\n",
    "3. Dreiecksungleichung: \n",
    "$d (x_i, x_j) \\leq d (x_i, x_k) + d (x_k, x_j)$"
   ]
  },
  {
   "cell_type": "markdown",
   "metadata": {},
   "source": [
    "Es sei $d_{ij}^{(f)}$ eine Metrik. Dann dürfen keine $x_{if}$ undefiniert sein, da alle Distanzen bestimmbar sein müssen.\n",
    "\n",
    "**Zu 1. **\n",
    "\n",
    "Zu zeigen: $d (x_i, x_j) \\geq 0$\n",
    "\n",
    "* Nach Voraussetzung gilt: $d_{ij}^{(f)} \\geq 0$ für alle $f \\in \\{1,...,p\\}$.\n",
    "\n",
    "  Für den binären Indikator $\\delta_{ij}^{(f)}$ gilt nach Definition: \n",
    "\n",
    "     $\\delta_{ij}^{(f)} \\in {0,1}$ für alle $i,j \\in \\{1,...,n\\}$ und $f \\in \\{1,...,p\\}$, also $\\delta_{ij}^{(f)} \\geq 0$\n",
    "\n",
    "   Daraus folgt: \n",
    "   $$\n",
    "   \\frac{\\sum_{f=1}^p \\delta_{ij}^{(f)} d_{ij}^{(f)}} {\\sum_{f=1}^p \\delta_{ij}^{(f)}} \\geq 0 \\Leftrightarrow d (x_i, x_j) \\geq 0\n",
    "   $$ \n",
    "\n",
    "\n",
    "Noch zu zeigen: $d (x_i, x_j) = 0 \\Leftrightarrow x_i = x_j$. Zeige dazu beide Richtungen:\n",
    "\n",
    "* $\\Leftarrow$\n",
    "\n",
    "  Wenn $x_i = x_j$, dann folgt, weil $d_{ij}^{(f)}$ metrisch ist, dass $d_{ij}^{(f)} = 0$ für alle $f \\in \\{1,...,p\\}$ und daraus folgt: $\\frac{\\sum_{f=1}^p \\delta_{ij}^{(f)} d_{ij}^{(f)}} {\\sum_{f=1}^p \\delta_{ij}^{(f)}} = 0 \\Leftrightarrow d (x_i, x_j) = 0$ \n",
    "\n",
    "\n",
    "* $\\Rightarrow$\n",
    "\n",
    "  Sei nun $d (x_i, x_j) = 0$, dann muss $\\sum_{f=1}^p \\delta_{ij}^{(f)} d_{ij}^{(f)} = 0$ sein. Betrachte zwei Fälle:\n",
    "\n",
    "  1. Falls $d_{ij}^{(f)} = 0$ für alle $f \\in \\{1,...,p\\}$ gilt nach Voraussetzung $x_i = x_j$.\n",
    "\n",
    "  2. Angenommen es gäbe ein $f_x \\in \\{1,...,p\\}$ sodass $d_{ij}^{(f_x)} \\neq 0$. Dann folgt daraus, dass $\\delta_{ij}^{(f_x)} = 0$ sein muss. Dies ist allerdings nur der Fall, wenn $x_{if_x} = x_{jf_x}$ (für ein binäres asymetrisches Attribut $f_x$). Und dann gilt weiterhin $x_i = x_j$.\n",
    "\n",
    "\n",
    "* Zusammen gilt also: \n",
    "$$\n",
    "d (x_i, x_j) = 0 \\Leftrightarrow x_i = x_j\n",
    "$$"
   ]
  },
  {
   "cell_type": "markdown",
   "metadata": {},
   "source": [
    "**Zu 2.**\n",
    "\n",
    "Zu zeigen: $d (x_i, x_j) = d (x_j, x_i)$\n",
    "\n",
    "* Nach Voraussetzung gilt: $d_{ij}^f = d_{ji}^f$ für alle $f \\in \\{1,...,p\\}$\n",
    "\n",
    "  Und auch für $\\delta_{ij}^{(f)}$ gilt nach Definition, dass $\\delta_{ij}^{(f)} = \\delta_{ji}^{(f)}$ für alle $i,j \\in \\{1,...,n\\}$ und $f \\in \\{1,...,p\\}$\n",
    "\n",
    "  Also gilt auch: $\\sum_{f=1}^p \\delta_{ij}^{(f)} d_{ij}^{(f)} = \\sum_{f=1}^p \\delta_{ij}^{(f)} d_{ji}^{(f)}$\n",
    "  \n",
    "  Und daraus folgt: \n",
    "  $$\n",
    "  \\frac{\\sum_{f=1}^p \\delta_{ij}^{(f)} d_{ij}^{(f)}} {\\sum_{f=1}^p \\delta_{ij}^{(f)}} = \\frac{\\sum_{f=1}^p \\delta_{ji}^{(f)} d_{ji}^{(f)}} {\\sum_{f=1}^p \\delta_{ji}^{(f)}} \\Leftrightarrow d (x_i, x_j) = d (x_j, x_i)\n",
    "  $$\n"
   ]
  },
  {
   "cell_type": "markdown",
   "metadata": {},
   "source": [
    "**Zu 3.**\n",
    "\n",
    "Zu zeigen: $d (x_i, x_j) \\leq d (x_i, x_k) + d (x_k, x_j)$\n",
    "\n",
    "* Nach Voraussetzung gilt: $d_{ij}^f \\leq d_{ik}^f + d_{kj}^f$ für alle $f \\in \\{1,...,p\\}$\n",
    "  \n",
    "  Für $\\delta_{ij}^{(f)}$ wiederum gilt:\n",
    "  \n",
    "  Falls $\\delta_{ik}^{(f)} = 0$ oder $\\delta_{kj}^{(f)} = 0$ folgt daraus, dass auch $\\delta_{ij}^{(f)} = 0$ sein muss, da die Null nur angenommen wird, wenn zwei Attribute übereinstimmen. Es gilt also (da $\\delta_{ik}^{(f)} \\in \\{0,1\\}$) : $\\delta_{ij}^{(f)} \\leq \\delta_{ik}^{(f)} + \\delta_{kj}^{(f)}$.\n",
    "  \n",
    "  Und daraus folgt:\n",
    "  $$\n",
    "  \\frac{\\sum_{f=1}^p \\delta_{ij}^{(f)} d_{ij}^{(f)}} {\\sum_{f=1}^p \\delta_{ij}^{(f)}} \\leq \n",
    "  \\frac{\\sum_{f=1}^p \\delta_{ik}^{(f)} d_{ik}^{(f)}} {\\sum_{f=1}^p \\delta_{ik}^{(f)}} + \\frac{\\sum_{f=1}^p \\delta_{kj}^{(f)} d_{kj}^{(f)}} {\\sum_{f=1}^p \\delta_{kj}^{(f)}}\n",
    "  \\Leftrightarrow\n",
    "  d (x_i, x_j) \\leq d (x_i, x_k) + d (x_k, x_j)\n",
    "  $$"
   ]
  },
  {
   "cell_type": "markdown",
   "metadata": {},
   "source": [
    "### b) Speicherkomplexität von Distanzmatrizen ###"
   ]
  },
  {
   "cell_type": "markdown",
   "metadata": {},
   "source": [
    "Die Speicherkomplexität der Distanzmatrix für $n$ Werte beträgt $O(n^2)$\n",
    "\n",
    "Durch die symmetrie der Distanzen steht jeder Distanzwert zwei Mal in der Matrix, einmal an Position $i,j$ und noch einmal an Position $j,i$. Um Speicherplatz zusparen müsste man eine andere Datenstruktur als eine Matrix wählen, sodass die doppelten Werte nur einmal gespeichert werden müssen. \n",
    "\n",
    "Beispielsweise könnte man eine Liste der Distanzen speichern und zu jedem Distanzeintrag die beiden betreffenden Punkte (Start und Ende) speichern. Dies kann allerdings zu anderen Problemen führen, wenn beispielsweise ein Pfad verfolgt werden soll und um die Distanzen zu ermitteln jedes Mal zwei Punktelisten nach dem Startpunkt der aktuellen Strecke durchsucht werden müssen."
   ]
  },
  {
   "cell_type": "markdown",
   "metadata": {},
   "source": [
    " "
   ]
  },
  {
   "cell_type": "markdown",
   "metadata": {
    "collapsed": true
   },
   "source": [
    "## Aufgabe 4.3: Verzerrte Werte ##"
   ]
  },
  {
   "cell_type": "markdown",
   "metadata": {},
   "source": [
    "### a) Nicht-Erwartungstreue des Schätzers der Varianz ###"
   ]
  },
  {
   "cell_type": "markdown",
   "metadata": {},
   "source": [
    "\n"
   ]
  },
  {
   "cell_type": "markdown",
   "metadata": {},
   "source": [
    "### b) Korrektur des Schätzers ###"
   ]
  },
  {
   "cell_type": "markdown",
   "metadata": {},
   "source": [
    " "
   ]
  }
 ],
 "metadata": {
  "anaconda-cloud": {},
  "kernelspec": {
   "display_name": "Python [default]",
   "language": "python",
   "name": "python3"
  },
  "language_info": {
   "codemirror_mode": {
    "name": "ipython",
    "version": 3
   },
   "file_extension": ".py",
   "mimetype": "text/x-python",
   "name": "python",
   "nbconvert_exporter": "python",
   "pygments_lexer": "ipython3",
   "version": "3.5.2"
  }
 },
 "nbformat": 4,
 "nbformat_minor": 1
}
