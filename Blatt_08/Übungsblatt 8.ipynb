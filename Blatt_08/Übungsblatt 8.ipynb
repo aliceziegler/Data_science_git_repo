{
 "cells": [
  {
   "cell_type": "markdown",
   "metadata": {},
   "source": [
    "# Aufgabe 1 Kernel\n",
    "\n",
    "### a) Kernel Konstruktion (Dimensionen: 2; Grad: 3)\n",
    "\n",
    "$$\n",
    "\\begin{align}\n",
    "k(x,z,) &= (x^Tz)^3 \\\\\n",
    "&= (x_1z_1+x_2z_2+1)^3 \\\\\n",
    "&= (x_1^3z_1^3+x_2^3z_2^3+3x_1^2x_2z_1^2z_2+3x_1x_2^2z_1z_2^2+3x_1^2z_1^2+3x_2^2z_2^2+6x_1x_2z_1z_2+3x_1z_1+3x_2z_2+1)\\\\\n",
    "&= (x_1^3, x_2^3, \\sqrt{3}x_1^2x_2, \\sqrt{3}x_1x_2^2, \\sqrt{3}x_1^2, \\sqrt{3}x_2^2, \\sqrt{6}x_1x_2, \\sqrt{3}x_1, \\sqrt{3}x_2, 1)^T\\\\\n",
    "&= \\Phi(x)^T \\Phi(z)\\\\\n",
    "\\end{align}\n",
    "$$\n",
    "\n",
    "### b) Gaussian-Kernel\n",
    "\n",
    "Gaussian Kernel: \n",
    "\n",
    "$$\n",
    "\\begin{align}\n",
    "k(x, z) = exp \\biggl(\\frac{-||x-z||^2}{2 \\sigma ^2}\\biggr)\n",
    "\\end{align}\n",
    "$$\n",
    "\n",
    "Taylor Reihe: \n",
    "\n",
    "$$\n",
    "\\begin{align}\n",
    "T_nf(x, x_0) = \\sum_{k=0}^n{\\frac{f^k(x_0)}{k!}(x-x_0)^k}\n",
    "\\end{align}\n",
    "$$\n",
    "\n",
    "Die Taylorreihe für die Exponentialfunktion ist: \n",
    "$$\n",
    "\\begin{align}\n",
    "exp(x) = \\sum_{n= 0}^\\infty{\\frac{x^n}{n!}}\n",
    "\\end{align}\n",
    "$$\n",
    "\n",
    "Die Exponentialfunktion kann also als unendliches Polynom geschrieben werden. \n",
    "\n",
    "Da allgemein formuliert ein Polynom mit d Dimensionen und k Graden einen Dimensionsvektor mit $d^k$ Dimensionen hat, \n",
    "$$\n",
    "\\begin{align}\n",
    "\\sum_{i=1}^k{\\frac{(i+d-1)!}{i!(d-1)!}} = O(d^k)\n",
    "\\end{align}\n",
    "$$\n",
    "kann gefolgert werden, dass wenn $k\\ \\rightarrow \\infty$ geht, auch $\\infty$ Dimensionen vom Gauß Kernel erzeugt werden. \n"
   ]
  }
 ],
 "metadata": {
  "anaconda-cloud": {},
  "kernelspec": {
   "display_name": "Python [default]",
   "language": "python",
   "name": "python3"
  },
  "language_info": {
   "codemirror_mode": {
    "name": "ipython",
    "version": 3
   },
   "file_extension": ".py",
   "mimetype": "text/x-python",
   "name": "python",
   "nbconvert_exporter": "python",
   "pygments_lexer": "ipython3",
   "version": "3.5.2"
  }
 },
 "nbformat": 4,
 "nbformat_minor": 1
}
