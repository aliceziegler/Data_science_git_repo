{
 "cells": [
  {
   "cell_type": "markdown",
   "metadata": {},
   "source": [
    "# Aufgabe 1 Kernel\n",
    "\n",
    "### a) Kernel Konstruktion (Dimensionen: 2; Grad: 3)\n",
    "\n",
    "nach Bishop, C. (2009): Pattern Recognition and Machine Learning.\n",
    "\n",
    "$$\n",
    "\\begin{align}\n",
    "k(x,z,) &= (x^Tz)^3 \\\\\n",
    "&= (x_1z_1+x_2z_2)^3 \\\\\n",
    "&= x_1^3z_1^3+3(x_1^2z_1^2x_2z_2)+3(x_1z_1x_2^2z_2^2)+x_2^3z_2^3\\\\\n",
    "&= (x_1^3, \\sqrt{3}x_1^2x_2, \\sqrt{3}x_1x_2^2, x_2^3)(z_1^3, \\sqrt{3}z_1^2z_2, \\sqrt{3}z_1z_2^2, z_2^3)^T \\\\\n",
    "&= \\Phi(x)^T \\Phi(z)\\\\\n",
    "\\\\\n",
    "\\Phi(x) &= (x_1^3, \\sqrt{3}x_1^2x_2, \\sqrt{3}x_1x_2^2, x_2^3)\n",
    "\\end{align}\n",
    "$$\n",
    "\n",
    "In anderen Quellen wird als Kernel auch teilweise die Grundlage \n",
    "$$\n",
    "\\begin{align}\n",
    "k(x,z,) &= (x^Tz)^3 \\\\\n",
    "&= (x_1z_1+x_2z_2+1)^3 \\\\\n",
    "\\end{align}\n",
    "$$\n",
    "verwendet. \n",
    "Daraus ergibt sich dann analog folgender veränderter Dimensionsvektor $\\Phi(x) = (x_1^3, x_2^3, \\sqrt{3}x_1^2x_2, \\sqrt{3}x_1x_2^2, \\sqrt{3}x_1^2, \\sqrt{3}x_2^2, \\sqrt{6}x_1x_2, \\sqrt{3}x_1, \\sqrt{3}x_2, 1)$"
   ]
  }
 ],
 "metadata": {
  "anaconda-cloud": {},
  "kernelspec": {
   "display_name": "Python [default]",
   "language": "python",
   "name": "python3"
  },
  "language_info": {
   "codemirror_mode": {
    "name": "ipython",
    "version": 3
   },
   "file_extension": ".py",
   "mimetype": "text/x-python",
   "name": "python",
   "nbconvert_exporter": "python",
   "pygments_lexer": "ipython3",
   "version": "3.5.2"
  }
 },
 "nbformat": 4,
 "nbformat_minor": 1
}
