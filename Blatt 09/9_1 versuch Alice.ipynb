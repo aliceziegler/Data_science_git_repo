{
 "cells": [
  {
   "cell_type": "code",
   "execution_count": 2,
   "metadata": {
    "collapsed": true
   },
   "outputs": [],
   "source": [
    "import pandas as pd\n",
    "import numpy as np\n",
    "import random\n",
    "import scipy.optimize as sco"
   ]
  },
  {
   "cell_type": "code",
   "execution_count": 95,
   "metadata": {
    "collapsed": false
   },
   "outputs": [],
   "source": [
    "data_raw = pd.read_csv(\"data_banknote_authentication.txt\", header = None)\n",
    "data_raw.columns = [\"v\", \"w\", \"x\", \"y\", \"label\"]\n",
    "data_sub = data_raw.sample(10).reset_index(drop=True) #subset des eigentlichen Datensatzes\n",
    "xVals = np.arange(0,1.01, 0.01)"
   ]
  },
  {
   "cell_type": "code",
   "execution_count": 14,
   "metadata": {
    "collapsed": true
   },
   "outputs": [],
   "source": [
    "def polykernel(x,y):\n",
    "    q = 4\n",
    "    return((np.dot(np.transpose(y),x) + 1) ** q)"
   ]
  },
  {
   "cell_type": "code",
   "execution_count": 20,
   "metadata": {
    "collapsed": true
   },
   "outputs": [],
   "source": [
    "def precalculateKernel(data,classAttribute):\n",
    "    N = data.shape[0]\n",
    "    #print(N)\n",
    "    \n",
    "    ts = data[classAttribute]\n",
    "    dataNoClass = data.drop(classAttribute,axis=1)\n",
    "    xs = np.c_[np.ones(N), dataNoClass]\n",
    "        \n",
    "    N,d = xs.shape\n",
    "    \n",
    "    kernel = np.empty([N,N])\n",
    "    \n",
    "    for i in range(N):\n",
    "        for j in range(N):\n",
    "            kernel[i,j] = polykernel(xs[i],xs[j])\n",
    "            \n",
    "    return kernel"
   ]
  },
  {
   "cell_type": "code",
   "execution_count": 16,
   "metadata": {
    "collapsed": true
   },
   "outputs": [],
   "source": [
    "def minimize(data,classAttribute,dataKernel, C=1):\n",
    "    N = data.shape[0]\n",
    "    \n",
    "    ts = data[classAttribute]\n",
    "    dataNoClass = data.drop(classAttribute,axis=1)\n",
    "    xs = np.c_[np.ones(N), dataNoClass]\n",
    "        \n",
    "    N,d = xs.shape\n",
    "    \n",
    "    alphaInit = np.empty([N,1])\n",
    "    for i in range(N):\n",
    "        alphaInit[i] = random.uniform(-1e-10,1e-10)\n",
    "    \n",
    "    \n",
    "    def mainFun(alphas):\n",
    "        summe = 0\n",
    "        for i in range(N):\n",
    "            for j in range(N):\n",
    "                summe += alphas[i] * alphas[j] * ts[i] * ts[j] * dataKernel[i,j]\n",
    "        \n",
    "        summe = -0.5 * summe + np.sum(alphas)\n",
    "        print (summe)\n",
    "        return -summe\n",
    "    \n",
    "    def nbFun(alphas):\n",
    "        summe = 0\n",
    "        for i in range(N):\n",
    "            summe += alphas[i] * ts[i]\n",
    "        \n",
    "        return summe\n",
    "    \n",
    "    return sco.minimize(\n",
    "        fun = mainFun,\n",
    "        x0 = alphaInit,\n",
    "        options = {'maxiter': 50, 'disp': True},\n",
    "        constraints = [\n",
    "            { 'type': 'eq', 'fun': nbFun },\n",
    "            { 'type': 'ineq', 'fun': (lambda alpha: (alpha)) },\n",
    "            { 'type': 'ineq', 'fun': (lambda alpha: (C - alpha)) }\n",
    "        ]\n",
    "    )"
   ]
  },
  {
   "cell_type": "code",
   "execution_count": 96,
   "metadata": {
    "collapsed": false
   },
   "outputs": [
    {
     "name": "stdout",
     "output_type": "stream",
     "text": [
      "4.12535107012e-11\n",
      "4.12535107012e-11\n",
      "1.4877445365e-08\n",
      "1.49424101007e-08\n",
      "1.48666501258e-08\n",
      "1.49424147045e-08\n",
      "1.35692769127e-08\n",
      "1.49424147045e-08\n",
      "1.49424147045e-08\n",
      "1.49424147045e-08\n",
      "1.49424147045e-08\n",
      "1.49424147045e-08\n",
      "5.99999999986\n",
      "5.99999999986\n",
      "6.0000000147\n",
      "6.00000001477\n",
      "6.00000001469\n",
      "6.00000001477\n",
      "6.0000000134\n",
      "6.00000001477\n",
      "6.00000001477\n",
      "6.00000001477\n",
      "6.00000001477\n",
      "6.00000001477\n",
      "Optimization terminated successfully.    (Exit mode 0)\n",
      "            Current function value: -5.99999999986\n",
      "            Iterations: 2\n",
      "            Function evaluations: 24\n",
      "            Gradient evaluations: 2\n"
     ]
    },
    {
     "data": {
      "text/plain": [
       "     fun: -5.9999999998646745\n",
       "     jac: array([-0.99572963, -0.9999997 , -0.99492544, -1.        , -0.90842658,\n",
       "       -1.        , -1.        , -1.        , -1.00000006, -1.        ,  0.        ])\n",
       " message: 'Optimization terminated successfully.'\n",
       "    nfev: 24\n",
       "     nit: 2\n",
       "    njev: 2\n",
       "  status: 0\n",
       " success: True\n",
       "       x: array([  4.83749381e-18,   8.94773311e-18,   4.70423187e-18,\n",
       "         1.00000000e+00,  -1.84894588e-17,   1.00000000e+00,\n",
       "         1.00000000e+00,   1.00000000e+00,   1.00000000e+00,\n",
       "         1.00000000e+00])"
      ]
     },
     "execution_count": 96,
     "metadata": {},
     "output_type": "execute_result"
    }
   ],
   "source": [
    "#real data\n",
    "#data_krnl = precalculateKernel(data_raw,\"label\")\n",
    "#result = minimize(data_raw,\"label\",data_krnl)\n",
    "#alphas = result.x #x bezeichnet im zurückgegebenen Datentyp der minimise funktion das tatsächliche Datenarray\n",
    "#result\n",
    "#subset\n",
    "data_krnl = precalculateKernel(data_sub,\"label\")\n",
    "result = minimize(data_sub,\"label\",data_krnl)\n",
    "alphas = result.x #x bezeichnet im zurückgegebenen Datentyp der minimise funktion das tatsächliche Datenarray\n",
    "result"
   ]
  },
  {
   "cell_type": "code",
   "execution_count": 93,
   "metadata": {
    "collapsed": false
   },
   "outputs": [
    {
     "name": "stdout",
     "output_type": "stream",
     "text": [
      "         v        w        x        y  label\n",
      "8  0.11806  0.39108 -0.98223  0.42843      1\n",
      "2 -3.55100  1.89550  0.18650 -2.44090      1\n",
      "         v         w         x         y  label\n",
      "0 -0.88728   2.80800  -3.14320 -1.203500      1\n",
      "1  4.17570  10.26150  -3.85520 -4.305600      0\n",
      "3  2.82370   2.85970   0.19678  0.571960      0\n",
      "4  0.32924  -4.45520   4.57180 -0.988800      0\n",
      "5 -2.45610  -4.55660   6.45340 -0.056479      1\n",
      "6  0.15423   0.11794  -1.68230  0.595240      1\n",
      "7 -2.31420  -0.68494   1.98330 -0.448290      1\n",
      "9 -3.26920 -12.74060  15.55730 -0.141820      1\n"
     ]
    }
   ],
   "source": [
    "#testing and training samples\n",
    "def split_test (data, prcnt_test):\n",
    "    data_test = data.sample(frac = prcnt_test, axis = 0)\n",
    "    return(data_test)\n",
    "def split_train(data, data_test): \n",
    "       data_train = data[~data[\"x\"].isin(data_test[\"x\"])] \n",
    "       #http://stackoverflow.com/questions/29464234/compare-python-pandas-dataframes-for-matching-rows\n",
    "       return(data_train)\n",
    "   \n",
    "test = split_test(data = data_sub, prcnt_test = 0.2)\n",
    "train = split_train(data = data_sub, data_test = test)\n",
    "print(test)\n",
    "print(train)"
   ]
  },
  {
   "cell_type": "code",
   "execution_count": null,
   "metadata": {
    "collapsed": false
   },
   "outputs": [],
   "source": []
  }
 ],
 "metadata": {
  "anaconda-cloud": {},
  "kernelspec": {
   "display_name": "Python [default]",
   "language": "python",
   "name": "python3"
  },
  "language_info": {
   "codemirror_mode": {
    "name": "ipython",
    "version": 3
   },
   "file_extension": ".py",
   "mimetype": "text/x-python",
   "name": "python",
   "nbconvert_exporter": "python",
   "pygments_lexer": "ipython3",
   "version": "3.5.2"
  }
 },
 "nbformat": 4,
 "nbformat_minor": 1
}
