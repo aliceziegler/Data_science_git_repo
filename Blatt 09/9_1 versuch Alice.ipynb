{
 "cells": [
  {
   "cell_type": "code",
   "execution_count": 2,
   "metadata": {
    "collapsed": true
   },
   "outputs": [],
   "source": [
    "import pandas as pd\n",
    "import numpy as np\n",
    "import random\n",
    "import scipy.optimize as sco"
   ]
  },
  {
   "cell_type": "code",
   "execution_count": 3,
   "metadata": {
    "collapsed": false
   },
   "outputs": [],
   "source": [
    "data_raw = pd.read_csv(\"data\\data_banknote_authentication.txt\", header = None)\n",
    "data_raw.columns = [\"v\", \"w\", \"x\", \"y\", \"label\"]\n",
    "data_sub = data_raw.sample(10).reset_index(drop=True) #subset des eigentlichen Datensatzes\n",
    "xVals = np.arange(0,1.01, 0.01)\n",
    "#print(data_sub)"
   ]
  },
  {
   "cell_type": "code",
   "execution_count": 4,
   "metadata": {
    "collapsed": true
   },
   "outputs": [],
   "source": [
    "def polykernel(x,y):\n",
    "    q = 4\n",
    "    return((np.dot(np.transpose(y),x) + 1) ** q)"
   ]
  },
  {
   "cell_type": "code",
   "execution_count": 5,
   "metadata": {
    "collapsed": true
   },
   "outputs": [],
   "source": [
    "def precalculateKernel(data,classAttribute):\n",
    "    N = data.shape[0]\n",
    "    #print(N)\n",
    "    \n",
    "    ts = data[classAttribute]\n",
    "    dataNoClass = data.drop(classAttribute,axis=1)\n",
    "    xs = np.c_[np.ones(N), dataNoClass]\n",
    "        \n",
    "    N,d = xs.shape\n",
    "    \n",
    "    kernel = np.empty([N,N])\n",
    "    \n",
    "    for i in range(N):\n",
    "        for j in range(N):\n",
    "            kernel[i,j] = polykernel(xs[i],xs[j])\n",
    "            \n",
    "    return kernel"
   ]
  },
  {
   "cell_type": "code",
   "execution_count": 6,
   "metadata": {
    "collapsed": true
   },
   "outputs": [],
   "source": [
    "def minimize(data,classAttribute,dataKernel, C=1):\n",
    "    N = data.shape[0]\n",
    "    \n",
    "    ts = data[classAttribute]\n",
    "    dataNoClass = data.drop(classAttribute,axis=1)\n",
    "    xs = np.c_[np.ones(N), dataNoClass]\n",
    "        \n",
    "    N,d = xs.shape\n",
    "    \n",
    "    alphaInit = np.empty([N,1])\n",
    "    for i in range(N):\n",
    "        alphaInit[i] = random.uniform(-1e-10,1e-10)\n",
    "    \n",
    "    \n",
    "    def mainFun(alphas):\n",
    "        summe = 0\n",
    "        for i in range(N):\n",
    "            for j in range(N):\n",
    "                summe += alphas[i] * alphas[j] * ts[i] * ts[j] * dataKernel[i,j]\n",
    "        \n",
    "        summe = -0.5 * summe + np.sum(alphas)\n",
    "        print (summe)\n",
    "        return -summe\n",
    "    \n",
    "    def nbFun(alphas):\n",
    "        summe = 0\n",
    "        for i in range(N):\n",
    "            summe += alphas[i] * ts[i]\n",
    "        \n",
    "        return summe\n",
    "    \n",
    "    return sco.minimize(\n",
    "        fun = mainFun,\n",
    "        x0 = alphaInit,\n",
    "        options = {'maxiter': 50, 'disp': True},\n",
    "        constraints = [\n",
    "            { 'type': 'eq', 'fun': nbFun },\n",
    "            { 'type': 'ineq', 'fun': (lambda alpha: (alpha)) },\n",
    "            { 'type': 'ineq', 'fun': (lambda alpha: (C - alpha)) }\n",
    "        ]\n",
    "    )"
   ]
  },
  {
   "cell_type": "code",
   "execution_count": 11,
   "metadata": {
    "collapsed": false
   },
   "outputs": [
    {
     "name": "stdout",
     "output_type": "stream",
     "text": [
      "-1.15650293746e-10\n",
      "-1.15650293746e-10\n",
      "1.47614089622e-08\n",
      "1.47855109001e-08\n",
      "-8.87446636703e-08\n",
      "1.47855109001e-08\n",
      "1.35490501417e-08\n",
      "-1.03614979714e-07\n",
      "1.47855109001e-08\n",
      "1.47855109001e-08\n",
      "1.47855109001e-08\n",
      "1.47855109001e-08\n",
      "5.9999999998\n",
      "5.9999999998\n",
      "6.00000001468\n",
      "6.00000001471\n",
      "5.99999991071\n",
      "6.00000001471\n",
      "6.00000001343\n",
      "5.99999989584\n",
      "6.00000001471\n",
      "6.00000001471\n",
      "6.00000001471\n",
      "6.00000001471\n",
      "Optimization terminated successfully.    (Exit mode 0)\n",
      "            Current function value: -5.9999999998\n",
      "            Iterations: 2\n",
      "            Function evaluations: 24\n",
      "            Gradient evaluations: 2\n"
     ]
    },
    {
     "data": {
      "text/plain": [
       "     fun: -5.999999999804384\n",
       "     jac: array([-0.99825436, -1.        ,  5.97883987, -1.        , -0.91464972,\n",
       "        6.97717065, -1.00000006, -1.00000006, -1.        , -1.        ,  0.        ])\n",
       " message: 'Optimization terminated successfully.'\n",
       "    nfev: 24\n",
       "     nit: 2\n",
       "    njev: 2\n",
       "  status: 0\n",
       " success: True\n",
       "       x: array([ -1.80801484e-14,   1.00000000e+00,   1.41573139e-14,\n",
       "         1.00000000e+00,  -1.84090463e-14,   2.23318807e-14,\n",
       "         1.00000000e+00,   1.00000000e+00,   1.00000000e+00,\n",
       "         1.00000000e+00])"
      ]
     },
     "execution_count": 11,
     "metadata": {},
     "output_type": "execute_result"
    }
   ],
   "source": [
    "#real data\n",
    "#data_krnl = precalculateKernel(data_raw,\"label\")\n",
    "#result = minimize(data_raw,\"label\",data_krnl)\n",
    "#alphas = result.x #x bezeichnet im zurückgegebenen Datentyp der minimise funktion das tatsächliche Datenarray\n",
    "#result\n",
    "#subset\n",
    "data_krnl = precalculateKernel(data_sub,\"label\")\n",
    "result = minimize(data_sub,\"label\",data_krnl)\n",
    "alphas = result.x #x bezeichnet im zurückgegebenen Datentyp der minimise funktion das tatsächliche Datenarray\n",
    "result"
   ]
  },
  {
   "cell_type": "code",
   "execution_count": 8,
   "metadata": {
    "collapsed": false
   },
   "outputs": [
    {
     "name": "stdout",
     "output_type": "stream",
     "text": [
      "        v        w        x       y  label\n",
      "8  5.0860   3.2798 -1.27010  1.1189      0\n",
      "6 -2.4473  12.6247  0.73573 -7.6612      0\n",
      "         v         w        x        y  label\n",
      "0 -0.88728   2.80800 -3.14320 -1.20350      1\n",
      "1  4.03290   0.23175  0.89082  1.18230      0\n",
      "2 -2.82670  -9.04070  9.06940 -0.98233      1\n",
      "3 -2.26230  12.11770  0.28846 -7.75810      0\n",
      "4 -0.37013  -5.55400  4.77490  1.54700      1\n",
      "5 -2.00420  -9.36760  9.33330 -0.10303      1\n",
      "7  5.11290  -0.49871  0.62863  1.11890      0\n",
      "9  0.37980   0.70980  0.75720 -0.44440      0\n"
     ]
    }
   ],
   "source": [
    "#testing and training samples\n",
    "def split_test (data, prcnt_test):\n",
    "    data_test = data.sample(frac = prcnt_test, axis = 0)\n",
    "    return(data_test)\n",
    "def split_train(data, data_test): \n",
    "       data_train = data[~data[\"x\"].isin(data_test[\"x\"])] \n",
    "       #http://stackoverflow.com/questions/29464234/compare-python-pandas-dataframes-for-matching-rows\n",
    "       return(data_train)\n",
    "   \n",
    "test = split_test(data = data_sub, prcnt_test = 0.2)\n",
    "train = split_train(data = data_sub, data_test = test)\n",
    "print(test)\n",
    "print(train)"
   ]
  },
  {
   "cell_type": "code",
   "execution_count": 9,
   "metadata": {
    "collapsed": false
   },
   "outputs": [],
   "source": [
    "def evaluateDiscriminationFunction(data,ws):\n",
    "    data2 = data.copy()\n",
    "    \n",
    "    data2['ones'] = 1\n",
    "    \n",
    "    cols = list(data2.columns.values)\n",
    "    cols = [cols[len(cols)-1]] + cols[0:(len(cols)-1)]\n",
    "    \n",
    "    data2 = data2.reindex_axis(cols,axis=1)\n",
    "    \n",
    "    classes = np.dot(data2, ws)\n",
    "    \n",
    "    for i in range(len(classes)):\n",
    "        if classes[i] > 0:\n",
    "            classes[i] = 1\n",
    "        else:\n",
    "            classes[i] = 0\n",
    "    \n",
    "    return classes"
   ]
  },
  {
   "cell_type": "code",
   "execution_count": 12,
   "metadata": {
    "collapsed": false
   },
   "outputs": [
    {
     "ename": "ValueError",
     "evalue": "shapes (10,6) and (10,) not aligned: 6 (dim 1) != 10 (dim 0)",
     "output_type": "error",
     "traceback": [
      "\u001b[0;31m---------------------------------------------------------------------------\u001b[0m",
      "\u001b[0;31mValueError\u001b[0m                                Traceback (most recent call last)",
      "\u001b[0;32m<ipython-input-12-8977ed0ebc01>\u001b[0m in \u001b[0;36m<module>\u001b[0;34m()\u001b[0m\n\u001b[0;32m----> 1\u001b[0;31m \u001b[0mevaluateDiscriminationFunction\u001b[0m\u001b[1;33m(\u001b[0m\u001b[0mdata_sub\u001b[0m\u001b[1;33m,\u001b[0m \u001b[0mresult\u001b[0m\u001b[1;33m.\u001b[0m\u001b[0mx\u001b[0m\u001b[1;33m)\u001b[0m\u001b[1;33m\u001b[0m\u001b[0m\n\u001b[0m",
      "\u001b[0;32m<ipython-input-9-63a899b3ff05>\u001b[0m in \u001b[0;36mevaluateDiscriminationFunction\u001b[0;34m(data, ws)\u001b[0m\n\u001b[1;32m      9\u001b[0m     \u001b[0mdata2\u001b[0m \u001b[1;33m=\u001b[0m \u001b[0mdata2\u001b[0m\u001b[1;33m.\u001b[0m\u001b[0mreindex_axis\u001b[0m\u001b[1;33m(\u001b[0m\u001b[0mcols\u001b[0m\u001b[1;33m,\u001b[0m\u001b[0maxis\u001b[0m\u001b[1;33m=\u001b[0m\u001b[1;36m1\u001b[0m\u001b[1;33m)\u001b[0m\u001b[1;33m\u001b[0m\u001b[0m\n\u001b[1;32m     10\u001b[0m \u001b[1;33m\u001b[0m\u001b[0m\n\u001b[0;32m---> 11\u001b[0;31m     \u001b[0mclasses\u001b[0m \u001b[1;33m=\u001b[0m \u001b[0mnp\u001b[0m\u001b[1;33m.\u001b[0m\u001b[0mdot\u001b[0m\u001b[1;33m(\u001b[0m\u001b[0mdata2\u001b[0m\u001b[1;33m,\u001b[0m \u001b[0mws\u001b[0m\u001b[1;33m)\u001b[0m\u001b[1;33m\u001b[0m\u001b[0m\n\u001b[0m\u001b[1;32m     12\u001b[0m \u001b[1;33m\u001b[0m\u001b[0m\n\u001b[1;32m     13\u001b[0m     \u001b[1;32mfor\u001b[0m \u001b[0mi\u001b[0m \u001b[1;32min\u001b[0m \u001b[0mrange\u001b[0m\u001b[1;33m(\u001b[0m\u001b[0mlen\u001b[0m\u001b[1;33m(\u001b[0m\u001b[0mclasses\u001b[0m\u001b[1;33m)\u001b[0m\u001b[1;33m)\u001b[0m\u001b[1;33m:\u001b[0m\u001b[1;33m\u001b[0m\u001b[0m\n",
      "\u001b[0;31mValueError\u001b[0m: shapes (10,6) and (10,) not aligned: 6 (dim 1) != 10 (dim 0)"
     ]
    }
   ],
   "source": [
    "evaluateDiscriminationFunction(data_sub, result.x)"
   ]
  }
 ],
 "metadata": {
  "anaconda-cloud": {},
  "kernelspec": {
   "display_name": "Python [default]",
   "language": "python",
   "name": "python3"
  },
  "language_info": {
   "codemirror_mode": {
    "name": "ipython",
    "version": 3
   },
   "file_extension": ".py",
   "mimetype": "text/x-python",
   "name": "python",
   "nbconvert_exporter": "python",
   "pygments_lexer": "ipython3",
   "version": "3.5.2"
  }
 },
 "nbformat": 4,
 "nbformat_minor": 1
}
